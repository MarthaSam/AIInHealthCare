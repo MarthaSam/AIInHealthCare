{
 "cells": [
  {
   "cell_type": "code",
   "execution_count": 2,
   "id": "1a9ec1be-712d-4620-b129-77eb87ece9ae",
   "metadata": {},
   "outputs": [],
   "source": [
    "import pandas as pd\n",
    "csv_file_path = '/Users/smartha/physionet.org/files/mimiciii/1.4/'"
   ]
  },
  {
   "cell_type": "code",
   "execution_count": 149,
   "id": "32116def-006e-460a-ab8d-580c16336b32",
   "metadata": {},
   "outputs": [],
   "source": [
    "df_adm = pd.read_csv(csv_file_path+'ADMISSIONS.csv.gz', compression='gzip')\n",
    "df_pat = pd.read_csv(csv_file_path+'PATIENTS.csv.gz', compression='gzip')\n",
    "df_notes = pd.read_csv(csv_file_path+'NOTEEVENTS.csv.gz', compression='gzip')"
   ]
  },
  {
   "cell_type": "code",
   "execution_count": 150,
   "id": "4287d7b1-daf4-4cef-b203-63b024eddb52",
   "metadata": {},
   "outputs": [
    {
     "name": "stdout",
     "output_type": "stream",
     "text": [
      "<class 'pandas.core.frame.DataFrame'>\n",
      "RangeIndex: 58976 entries, 0 to 58975\n",
      "Data columns (total 19 columns):\n",
      " #   Column                Non-Null Count  Dtype \n",
      "---  ------                --------------  ----- \n",
      " 0   ROW_ID                58976 non-null  int64 \n",
      " 1   SUBJECT_ID            58976 non-null  int64 \n",
      " 2   HADM_ID               58976 non-null  int64 \n",
      " 3   ADMITTIME             58976 non-null  object\n",
      " 4   DISCHTIME             58976 non-null  object\n",
      " 5   DEATHTIME             5854 non-null   object\n",
      " 6   ADMISSION_TYPE        58976 non-null  object\n",
      " 7   ADMISSION_LOCATION    58976 non-null  object\n",
      " 8   DISCHARGE_LOCATION    58976 non-null  object\n",
      " 9   INSURANCE             58976 non-null  object\n",
      " 10  LANGUAGE              33644 non-null  object\n",
      " 11  RELIGION              58518 non-null  object\n",
      " 12  MARITAL_STATUS        48848 non-null  object\n",
      " 13  ETHNICITY             58976 non-null  object\n",
      " 14  EDREGTIME             30877 non-null  object\n",
      " 15  EDOUTTIME             30877 non-null  object\n",
      " 16  DIAGNOSIS             58951 non-null  object\n",
      " 17  HOSPITAL_EXPIRE_FLAG  58976 non-null  int64 \n",
      " 18  HAS_CHARTEVENTS_DATA  58976 non-null  int64 \n",
      "dtypes: int64(5), object(14)\n",
      "memory usage: 8.5+ MB\n"
     ]
    }
   ],
   "source": [
    "df_adm.info()"
   ]
  },
  {
   "cell_type": "code",
   "execution_count": 151,
   "id": "c6563acb-c622-4caf-a070-7292fa618ae6",
   "metadata": {
    "scrolled": true
   },
   "outputs": [
    {
     "ename": "AssertionError",
     "evalue": "Multiple admissions per patient",
     "output_type": "error",
     "traceback": [
      "\u001b[0;31m---------------------------------------------------------------------------\u001b[0m",
      "\u001b[0;31mAssertionError\u001b[0m                            Traceback (most recent call last)",
      "Cell \u001b[0;32mIn[151], line 2\u001b[0m\n\u001b[1;32m      1\u001b[0m \u001b[38;5;66;03m# for each patient get the latest discharge data only\u001b[39;00m\n\u001b[0;32m----> 2\u001b[0m \u001b[38;5;28;01massert\u001b[39;00m df_adm\u001b[38;5;241m.\u001b[39mduplicated([\u001b[38;5;124m'\u001b[39m\u001b[38;5;124mSUBJECT_ID\u001b[39m\u001b[38;5;124m'\u001b[39m])\u001b[38;5;241m.\u001b[39msum() \u001b[38;5;241m==\u001b[39m \u001b[38;5;241m0\u001b[39m, \u001b[38;5;124m'\u001b[39m\u001b[38;5;124mMultiple admissions per patient\u001b[39m\u001b[38;5;124m'\u001b[39m\n",
      "\u001b[0;31mAssertionError\u001b[0m: Multiple admissions per patient"
     ]
    }
   ],
   "source": [
    "# for each patient get the latest discharge data only\n",
    "assert df_adm.duplicated(['SUBJECT_ID']).sum() == 0, 'Multiple admissions per patient'"
   ]
  },
  {
   "cell_type": "code",
   "execution_count": 152,
   "id": "173de58e-99ef-4006-81ea-48138a69277b",
   "metadata": {},
   "outputs": [],
   "source": [
    "df_adm = df_adm.sort_values(by=[\"SUBJECT_ID\", \"ADMITTIME\"], ascending=True)"
   ]
  },
  {
   "cell_type": "code",
   "execution_count": 153,
   "id": "493f5b28-14a1-413b-9a67-5c409c965f1a",
   "metadata": {},
   "outputs": [
    {
     "data": {
      "text/html": [
       "<div>\n",
       "<style scoped>\n",
       "    .dataframe tbody tr th:only-of-type {\n",
       "        vertical-align: middle;\n",
       "    }\n",
       "\n",
       "    .dataframe tbody tr th {\n",
       "        vertical-align: top;\n",
       "    }\n",
       "\n",
       "    .dataframe thead th {\n",
       "        text-align: right;\n",
       "    }\n",
       "</style>\n",
       "<table border=\"1\" class=\"dataframe\">\n",
       "  <thead>\n",
       "    <tr style=\"text-align: right;\">\n",
       "      <th></th>\n",
       "      <th>ROW_ID</th>\n",
       "      <th>SUBJECT_ID</th>\n",
       "      <th>HADM_ID</th>\n",
       "      <th>ADMITTIME</th>\n",
       "      <th>DISCHTIME</th>\n",
       "      <th>DEATHTIME</th>\n",
       "      <th>ADMISSION_TYPE</th>\n",
       "      <th>ADMISSION_LOCATION</th>\n",
       "      <th>DISCHARGE_LOCATION</th>\n",
       "      <th>INSURANCE</th>\n",
       "      <th>LANGUAGE</th>\n",
       "      <th>RELIGION</th>\n",
       "      <th>MARITAL_STATUS</th>\n",
       "      <th>ETHNICITY</th>\n",
       "      <th>EDREGTIME</th>\n",
       "      <th>EDOUTTIME</th>\n",
       "      <th>DIAGNOSIS</th>\n",
       "      <th>HOSPITAL_EXPIRE_FLAG</th>\n",
       "      <th>HAS_CHARTEVENTS_DATA</th>\n",
       "    </tr>\n",
       "  </thead>\n",
       "  <tbody>\n",
       "    <tr>\n",
       "      <th>299</th>\n",
       "      <td>447</td>\n",
       "      <td>353</td>\n",
       "      <td>159730</td>\n",
       "      <td>2148-06-15 11:04:00</td>\n",
       "      <td>2148-07-04 17:48:00</td>\n",
       "      <td>NaN</td>\n",
       "      <td>URGENT</td>\n",
       "      <td>PHYS REFERRAL/NORMAL DELI</td>\n",
       "      <td>REHAB/DISTINCT PART HOSP</td>\n",
       "      <td>Medicare</td>\n",
       "      <td>NaN</td>\n",
       "      <td>JEWISH</td>\n",
       "      <td>SINGLE</td>\n",
       "      <td>WHITE</td>\n",
       "      <td>NaN</td>\n",
       "      <td>NaN</td>\n",
       "      <td>CELLULITIS RT FOOT-PVD-OSTEOMYELITIS-DM</td>\n",
       "      <td>0</td>\n",
       "      <td>1</td>\n",
       "    </tr>\n",
       "    <tr>\n",
       "      <th>300</th>\n",
       "      <td>448</td>\n",
       "      <td>353</td>\n",
       "      <td>108923</td>\n",
       "      <td>2151-03-28 16:01:00</td>\n",
       "      <td>2151-04-13 16:10:00</td>\n",
       "      <td>NaN</td>\n",
       "      <td>EMERGENCY</td>\n",
       "      <td>EMERGENCY ROOM ADMIT</td>\n",
       "      <td>HOME</td>\n",
       "      <td>Medicare</td>\n",
       "      <td>PTUN</td>\n",
       "      <td>JEWISH</td>\n",
       "      <td>SINGLE</td>\n",
       "      <td>WHITE</td>\n",
       "      <td>2151-03-28 13:02:00</td>\n",
       "      <td>2151-03-28 17:46:00</td>\n",
       "      <td>SEPSIS</td>\n",
       "      <td>0</td>\n",
       "      <td>1</td>\n",
       "    </tr>\n",
       "    <tr>\n",
       "      <th>301</th>\n",
       "      <td>449</td>\n",
       "      <td>353</td>\n",
       "      <td>112976</td>\n",
       "      <td>2151-06-23 22:18:00</td>\n",
       "      <td>2151-07-04 13:22:00</td>\n",
       "      <td>NaN</td>\n",
       "      <td>EMERGENCY</td>\n",
       "      <td>EMERGENCY ROOM ADMIT</td>\n",
       "      <td>HOME</td>\n",
       "      <td>Medicare</td>\n",
       "      <td>PTUN</td>\n",
       "      <td>JEWISH</td>\n",
       "      <td>SINGLE</td>\n",
       "      <td>WHITE</td>\n",
       "      <td>2151-06-23 17:37:00</td>\n",
       "      <td>2151-06-23 23:28:00</td>\n",
       "      <td>LINE SEPSIS</td>\n",
       "      <td>0</td>\n",
       "      <td>1</td>\n",
       "    </tr>\n",
       "    <tr>\n",
       "      <th>302</th>\n",
       "      <td>450</td>\n",
       "      <td>353</td>\n",
       "      <td>131488</td>\n",
       "      <td>2151-10-01 20:42:00</td>\n",
       "      <td>2151-10-20 15:20:00</td>\n",
       "      <td>NaN</td>\n",
       "      <td>EMERGENCY</td>\n",
       "      <td>EMERGENCY ROOM ADMIT</td>\n",
       "      <td>HOME</td>\n",
       "      <td>Medicare</td>\n",
       "      <td>PTUN</td>\n",
       "      <td>JEWISH</td>\n",
       "      <td>SINGLE</td>\n",
       "      <td>WHITE</td>\n",
       "      <td>2151-10-01 10:36:00</td>\n",
       "      <td>2151-10-01 21:04:00</td>\n",
       "      <td>SEPSIS</td>\n",
       "      <td>0</td>\n",
       "      <td>1</td>\n",
       "    </tr>\n",
       "    <tr>\n",
       "      <th>303</th>\n",
       "      <td>451</td>\n",
       "      <td>353</td>\n",
       "      <td>159476</td>\n",
       "      <td>2153-06-27 20:15:00</td>\n",
       "      <td>2153-07-07 10:30:00</td>\n",
       "      <td>2153-07-07 10:30:00</td>\n",
       "      <td>EMERGENCY</td>\n",
       "      <td>EMERGENCY ROOM ADMIT</td>\n",
       "      <td>DEAD/EXPIRED</td>\n",
       "      <td>Medicare</td>\n",
       "      <td>PTUN</td>\n",
       "      <td>JEWISH</td>\n",
       "      <td>SINGLE</td>\n",
       "      <td>WHITE</td>\n",
       "      <td>2153-06-27 17:47:00</td>\n",
       "      <td>2153-06-27 22:32:00</td>\n",
       "      <td>POSITIVE BLOOD CULTURE;BACTEREMIA</td>\n",
       "      <td>1</td>\n",
       "      <td>1</td>\n",
       "    </tr>\n",
       "  </tbody>\n",
       "</table>\n",
       "</div>"
      ],
      "text/plain": [
       "     ROW_ID  SUBJECT_ID  HADM_ID            ADMITTIME            DISCHTIME  \\\n",
       "299     447         353   159730  2148-06-15 11:04:00  2148-07-04 17:48:00   \n",
       "300     448         353   108923  2151-03-28 16:01:00  2151-04-13 16:10:00   \n",
       "301     449         353   112976  2151-06-23 22:18:00  2151-07-04 13:22:00   \n",
       "302     450         353   131488  2151-10-01 20:42:00  2151-10-20 15:20:00   \n",
       "303     451         353   159476  2153-06-27 20:15:00  2153-07-07 10:30:00   \n",
       "\n",
       "               DEATHTIME ADMISSION_TYPE         ADMISSION_LOCATION  \\\n",
       "299                  NaN         URGENT  PHYS REFERRAL/NORMAL DELI   \n",
       "300                  NaN      EMERGENCY       EMERGENCY ROOM ADMIT   \n",
       "301                  NaN      EMERGENCY       EMERGENCY ROOM ADMIT   \n",
       "302                  NaN      EMERGENCY       EMERGENCY ROOM ADMIT   \n",
       "303  2153-07-07 10:30:00      EMERGENCY       EMERGENCY ROOM ADMIT   \n",
       "\n",
       "           DISCHARGE_LOCATION INSURANCE LANGUAGE RELIGION MARITAL_STATUS  \\\n",
       "299  REHAB/DISTINCT PART HOSP  Medicare      NaN   JEWISH         SINGLE   \n",
       "300                      HOME  Medicare     PTUN   JEWISH         SINGLE   \n",
       "301                      HOME  Medicare     PTUN   JEWISH         SINGLE   \n",
       "302                      HOME  Medicare     PTUN   JEWISH         SINGLE   \n",
       "303              DEAD/EXPIRED  Medicare     PTUN   JEWISH         SINGLE   \n",
       "\n",
       "    ETHNICITY            EDREGTIME            EDOUTTIME  \\\n",
       "299     WHITE                  NaN                  NaN   \n",
       "300     WHITE  2151-03-28 13:02:00  2151-03-28 17:46:00   \n",
       "301     WHITE  2151-06-23 17:37:00  2151-06-23 23:28:00   \n",
       "302     WHITE  2151-10-01 10:36:00  2151-10-01 21:04:00   \n",
       "303     WHITE  2153-06-27 17:47:00  2153-06-27 22:32:00   \n",
       "\n",
       "                                   DIAGNOSIS  HOSPITAL_EXPIRE_FLAG  \\\n",
       "299  CELLULITIS RT FOOT-PVD-OSTEOMYELITIS-DM                     0   \n",
       "300                                   SEPSIS                     0   \n",
       "301                              LINE SEPSIS                     0   \n",
       "302                                   SEPSIS                     0   \n",
       "303        POSITIVE BLOOD CULTURE;BACTEREMIA                     1   \n",
       "\n",
       "     HAS_CHARTEVENTS_DATA  \n",
       "299                     1  \n",
       "300                     1  \n",
       "301                     1  \n",
       "302                     1  \n",
       "303                     1  "
      ]
     },
     "execution_count": 153,
     "metadata": {},
     "output_type": "execute_result"
    }
   ],
   "source": [
    "df_adm[df_adm.SUBJECT_ID==353]"
   ]
  },
  {
   "cell_type": "code",
   "execution_count": 154,
   "id": "8588271c-46c4-4558-baf7-63548992ce32",
   "metadata": {},
   "outputs": [],
   "source": [
    "df_adm = (df_adm.groupby([\"SUBJECT_ID\"]).nth(-1)).reset_index()"
   ]
  },
  {
   "cell_type": "code",
   "execution_count": 155,
   "id": "49b2ad80-3084-4712-b0f3-dae2ee8757c0",
   "metadata": {},
   "outputs": [
    {
     "data": {
      "text/html": [
       "<div>\n",
       "<style scoped>\n",
       "    .dataframe tbody tr th:only-of-type {\n",
       "        vertical-align: middle;\n",
       "    }\n",
       "\n",
       "    .dataframe tbody tr th {\n",
       "        vertical-align: top;\n",
       "    }\n",
       "\n",
       "    .dataframe thead th {\n",
       "        text-align: right;\n",
       "    }\n",
       "</style>\n",
       "<table border=\"1\" class=\"dataframe\">\n",
       "  <thead>\n",
       "    <tr style=\"text-align: right;\">\n",
       "      <th></th>\n",
       "      <th>index</th>\n",
       "      <th>ROW_ID</th>\n",
       "      <th>SUBJECT_ID</th>\n",
       "      <th>HADM_ID</th>\n",
       "      <th>ADMITTIME</th>\n",
       "      <th>DISCHTIME</th>\n",
       "      <th>DEATHTIME</th>\n",
       "      <th>ADMISSION_TYPE</th>\n",
       "      <th>ADMISSION_LOCATION</th>\n",
       "      <th>DISCHARGE_LOCATION</th>\n",
       "      <th>INSURANCE</th>\n",
       "      <th>LANGUAGE</th>\n",
       "      <th>RELIGION</th>\n",
       "      <th>MARITAL_STATUS</th>\n",
       "      <th>ETHNICITY</th>\n",
       "      <th>EDREGTIME</th>\n",
       "      <th>EDOUTTIME</th>\n",
       "      <th>DIAGNOSIS</th>\n",
       "      <th>HOSPITAL_EXPIRE_FLAG</th>\n",
       "      <th>HAS_CHARTEVENTS_DATA</th>\n",
       "    </tr>\n",
       "  </thead>\n",
       "  <tbody>\n",
       "    <tr>\n",
       "      <th>331</th>\n",
       "      <td>303</td>\n",
       "      <td>451</td>\n",
       "      <td>353</td>\n",
       "      <td>159476</td>\n",
       "      <td>2153-06-27 20:15:00</td>\n",
       "      <td>2153-07-07 10:30:00</td>\n",
       "      <td>2153-07-07 10:30:00</td>\n",
       "      <td>EMERGENCY</td>\n",
       "      <td>EMERGENCY ROOM ADMIT</td>\n",
       "      <td>DEAD/EXPIRED</td>\n",
       "      <td>Medicare</td>\n",
       "      <td>PTUN</td>\n",
       "      <td>JEWISH</td>\n",
       "      <td>SINGLE</td>\n",
       "      <td>WHITE</td>\n",
       "      <td>2153-06-27 17:47:00</td>\n",
       "      <td>2153-06-27 22:32:00</td>\n",
       "      <td>POSITIVE BLOOD CULTURE;BACTEREMIA</td>\n",
       "      <td>1</td>\n",
       "      <td>1</td>\n",
       "    </tr>\n",
       "  </tbody>\n",
       "</table>\n",
       "</div>"
      ],
      "text/plain": [
       "     index  ROW_ID  SUBJECT_ID  HADM_ID            ADMITTIME  \\\n",
       "331    303     451         353   159476  2153-06-27 20:15:00   \n",
       "\n",
       "               DISCHTIME            DEATHTIME ADMISSION_TYPE  \\\n",
       "331  2153-07-07 10:30:00  2153-07-07 10:30:00      EMERGENCY   \n",
       "\n",
       "       ADMISSION_LOCATION DISCHARGE_LOCATION INSURANCE LANGUAGE RELIGION  \\\n",
       "331  EMERGENCY ROOM ADMIT       DEAD/EXPIRED  Medicare     PTUN   JEWISH   \n",
       "\n",
       "    MARITAL_STATUS ETHNICITY            EDREGTIME            EDOUTTIME  \\\n",
       "331         SINGLE     WHITE  2153-06-27 17:47:00  2153-06-27 22:32:00   \n",
       "\n",
       "                             DIAGNOSIS  HOSPITAL_EXPIRE_FLAG  \\\n",
       "331  POSITIVE BLOOD CULTURE;BACTEREMIA                     1   \n",
       "\n",
       "     HAS_CHARTEVENTS_DATA  \n",
       "331                     1  "
      ]
     },
     "execution_count": 155,
     "metadata": {},
     "output_type": "execute_result"
    }
   ],
   "source": [
    "df_adm[df_adm.SUBJECT_ID==353]"
   ]
  },
  {
   "cell_type": "code",
   "execution_count": 156,
   "id": "b6c14d12-69da-4c53-9a85-f1746f4c9511",
   "metadata": {},
   "outputs": [],
   "source": [
    "df_adm_pat = pd.merge(df_adm[['SUBJECT_ID','HADM_ID','ADMITTIME','DISCHTIME','ADMISSION_TYPE','DEATHTIME']],\n",
    "                        df_pat[['SUBJECT_ID','DOD']],\n",
    "                        on = ['SUBJECT_ID'],\n",
    "                        how = 'left')\n"
   ]
  },
  {
   "cell_type": "code",
   "execution_count": 157,
   "id": "d02d5586-b953-4f2a-93ea-42412835c32b",
   "metadata": {},
   "outputs": [
    {
     "name": "stdout",
     "output_type": "stream",
     "text": [
      "adm_pat : 46520 \n",
      "adm : 46520 \n",
      "pat : 46520\n"
     ]
    }
   ],
   "source": [
    "assert len(df_adm_pat) == len(df_adm), 'Number of rows increased'\n",
    "assert len(df_adm_pat) == len(df_pat), 'Number of rows increased'\n",
    "print('adm_pat :',len(df_adm_pat), '\\nadm :',len(df_adm), '\\npat :',len(df_pat))"
   ]
  },
  {
   "cell_type": "code",
   "execution_count": 158,
   "id": "f92e31f4-b4a4-4d56-af23-b1624d850240",
   "metadata": {},
   "outputs": [
    {
     "name": "stdout",
     "output_type": "stream",
     "text": [
      "<class 'pandas.core.frame.DataFrame'>\n",
      "RangeIndex: 46520 entries, 0 to 46519\n",
      "Data columns (total 7 columns):\n",
      " #   Column          Non-Null Count  Dtype         \n",
      "---  ------          --------------  -----         \n",
      " 0   SUBJECT_ID      46520 non-null  int64         \n",
      " 1   HADM_ID         46520 non-null  int64         \n",
      " 2   ADMITTIME       46520 non-null  object        \n",
      " 3   DISCHTIME       46520 non-null  object        \n",
      " 4   ADMISSION_TYPE  46520 non-null  object        \n",
      " 5   DEATHTIME       5809 non-null   object        \n",
      " 6   DOD             15759 non-null  datetime64[ns]\n",
      "dtypes: datetime64[ns](1), int64(2), object(4)\n",
      "memory usage: 2.5+ MB\n"
     ]
    }
   ],
   "source": [
    "df_adm_pat.info()"
   ]
  },
  {
   "cell_type": "code",
   "execution_count": 159,
   "id": "1b968c42-0f98-4c42-aa08-057b23ce7a2a",
   "metadata": {},
   "outputs": [],
   "source": [
    "# convert to dates\n",
    "df_adm_pat.ADMITTIME = pd.to_datetime(df_adm_pat.ADMITTIME, format = '%Y-%m-%d %H:%M:%S', errors = 'coerce')\n",
    "df_adm_pat.DISCHTIME = pd.to_datetime(df_adm_pat.DISCHTIME, format = '%Y-%m-%d %H:%M:%S', errors = 'coerce')\n",
    "df_adm_pat.DEATHTIME = pd.to_datetime(df_adm_pat.DEATHTIME, format = '%Y-%m-%d %H:%M:%S', errors = 'coerce')\n",
    "\n",
    "df_adm_pat.DOD = pd.to_datetime(df_adm_pat.DOD, format = '%Y-%m-%d %H:%M:%S', errors = 'coerce')"
   ]
  },
  {
   "cell_type": "code",
   "execution_count": 160,
   "id": "63a974a4-c178-46de-adfd-10df4311564b",
   "metadata": {},
   "outputs": [
    {
     "name": "stdout",
     "output_type": "stream",
     "text": [
      "<class 'pandas.core.frame.DataFrame'>\n",
      "RangeIndex: 46520 entries, 0 to 46519\n",
      "Data columns (total 7 columns):\n",
      " #   Column          Non-Null Count  Dtype         \n",
      "---  ------          --------------  -----         \n",
      " 0   SUBJECT_ID      46520 non-null  int64         \n",
      " 1   HADM_ID         46520 non-null  int64         \n",
      " 2   ADMITTIME       46520 non-null  datetime64[ns]\n",
      " 3   DISCHTIME       46520 non-null  datetime64[ns]\n",
      " 4   ADMISSION_TYPE  46520 non-null  object        \n",
      " 5   DEATHTIME       5809 non-null   datetime64[ns]\n",
      " 6   DOD             15759 non-null  datetime64[ns]\n",
      "dtypes: datetime64[ns](4), int64(2), object(1)\n",
      "memory usage: 2.5+ MB\n"
     ]
    }
   ],
   "source": [
    "df_adm_pat.info()"
   ]
  },
  {
   "cell_type": "code",
   "execution_count": 161,
   "id": "16f19e41-5b26-4f1e-87ae-98f94e5c5a21",
   "metadata": {},
   "outputs": [
    {
     "name": "stdout",
     "output_type": "stream",
     "text": [
      "5809\n",
      "40711\n"
     ]
    }
   ],
   "source": [
    "print(df_adm_pat[~df_adm_pat.DEATHTIME.isnull()].shape[0])\n",
    "print(df_adm_pat[df_adm_pat.DEATHTIME.isnull()].shape[0])"
   ]
  },
  {
   "cell_type": "code",
   "execution_count": 162,
   "id": "549cc79e-6365-4f78-b84d-5b725029814f",
   "metadata": {},
   "outputs": [],
   "source": [
    "# Exclude hospital deaths\n",
    "df_adm_pat = df_adm_pat[df_adm_pat.DEATHTIME.isnull()]"
   ]
  },
  {
   "cell_type": "code",
   "execution_count": 163,
   "id": "6ded3fd9-db2e-4c69-ad85-5a173f39f132",
   "metadata": {},
   "outputs": [
    {
     "name": "stdout",
     "output_type": "stream",
     "text": [
      "0\n",
      "40711\n"
     ]
    }
   ],
   "source": [
    "print(df_adm_pat[~df_adm_pat.DEATHTIME.isnull()].shape[0])\n",
    "print(df_adm_pat[df_adm_pat.DEATHTIME.isnull()].shape[0])"
   ]
  },
  {
   "cell_type": "code",
   "execution_count": 164,
   "id": "1715d6ed-01dd-4f8f-8c1f-8b74087a8848",
   "metadata": {},
   "outputs": [],
   "source": [
    "# calculate the number of days between discharge date and death at home\n",
    "# pat.dod::date - adm.dischtime::date AS days_to_death\n",
    "df_adm_pat['DEATH_AFTER_ADMIT_DAYS'] = (df_adm_pat.DOD - df_adm_pat.DISCHTIME).dt.total_seconds()/(24*60*60)\n"
   ]
  },
  {
   "cell_type": "code",
   "execution_count": 165,
   "id": "5eea1b1e-03fd-4883-825b-de185ea52001",
   "metadata": {},
   "outputs": [
    {
     "data": {
      "text/plain": [
       "1         225.418056\n",
       "9         186.208333\n",
       "15        371.521528\n",
       "22        652.375000\n",
       "29        338.152778\n",
       "            ...     \n",
       "46502    1501.427083\n",
       "46503     362.434028\n",
       "46506      48.302083\n",
       "46513       9.141667\n",
       "46518     229.447917\n",
       "Name: DEATH_AFTER_ADMIT_DAYS, Length: 9950, dtype: float64"
      ]
     },
     "execution_count": 165,
     "metadata": {},
     "output_type": "execute_result"
    }
   ],
   "source": [
    "# df_adm_pat.head()\n",
    "df_adm_pat.loc[~df_adm_pat.DEATH_AFTER_ADMIT_DAYS.isnull(),'DEATH_AFTER_ADMIT_DAYS']"
   ]
  },
  {
   "cell_type": "code",
   "execution_count": 181,
   "id": "d19e42ca-5d69-4cfe-9015-899925c77133",
   "metadata": {},
   "outputs": [
    {
     "data": {
      "image/png": "[encoded data removed]",
      "text/plain": [
       "<Figure size 640x480 with 1 Axes>"
      ]
     },
     "metadata": {},
     "output_type": "display_data"
    }
   ],
   "source": [
    "# plot a histogram of days between discharge and death date\n",
    "# this only works for non-null values so you have to filter\n",
    "import matplotlib.pyplot as plt\n",
    "\n",
    "plt.hist(df_adm_pat.loc[~df_adm_pat.DEATH_AFTER_ADMIT_DAYS.isnull(),'DEATH_AFTER_ADMIT_DAYS'], bins =range(0,365,25))\n",
    "plt.xlim([0,365])\n",
    "plt.xlabel('Death days after admission')\n",
    "plt.ylabel('Counts')\n",
    "plt.show()"
   ]
  },
  {
   "cell_type": "code",
   "execution_count": 188,
   "id": "659d9b83-c562-4b81-8a4c-bc21f92014d2",
   "metadata": {},
   "outputs": [
    {
     "name": "stdout",
     "output_type": "stream",
     "text": [
      "30761\n",
      "8116\n",
      "1834\n"
     ]
    }
   ],
   "source": [
    "print(df_adm_pat[df_adm_pat.DEATH_AFTER_ADMIT_DAYS.isnull()].shape[0])\n",
    "print(df_adm_pat[df_adm_pat.DEATH_AFTER_ADMIT_DAYS > 30].shape[0])\n",
    "print(df_adm_pat[df_adm_pat.DEATH_AFTER_ADMIT_DAYS <= 30].shape[0])"
   ]
  },
  {
   "cell_type": "code",
   "execution_count": 189,
   "id": "0c3244ac-b3e2-45c3-ab62-2667e68e8175",
   "metadata": {},
   "outputs": [
    {
     "name": "stdout",
     "output_type": "stream",
     "text": [
      "Number of notes: 2083180\n"
     ]
    },
    {
     "data": {
      "text/plain": [
       "array(['Discharge summary', 'Echo', 'ECG', 'Nursing', 'Physician ',\n",
       "       'Rehab Services', 'Case Management ', 'Respiratory ', 'Nutrition',\n",
       "       'General', 'Social Work', 'Pharmacy', 'Consult', 'Radiology',\n",
       "       'Nursing/other'], dtype=object)"
      ]
     },
     "execution_count": 189,
     "metadata": {},
     "output_type": "execute_result"
    }
   ],
   "source": [
    "print('Number of notes:',len(df_notes))\n",
    "df_notes.CATEGORY.unique()"
   ]
  },
  {
   "cell_type": "code",
   "execution_count": 193,
   "id": "50507d11-699b-4d92-8bfe-32897e86088e",
   "metadata": {},
   "outputs": [],
   "source": [
    "df_notes_dis_sum = df_notes.loc[df_notes.CATEGORY == 'Discharge summary']"
   ]
  },
  {
   "cell_type": "code",
   "execution_count": 194,
   "id": "66511da3-d064-4610-ad65-b64f2cfefe00",
   "metadata": {},
   "outputs": [
    {
     "ename": "AssertionError",
     "evalue": "Multiple discharge summaries per admission",
     "output_type": "error",
     "traceback": [
      "\u001b[0;31m---------------------------------------------------------------------------\u001b[0m",
      "\u001b[0;31mAssertionError\u001b[0m                            Traceback (most recent call last)",
      "Cell \u001b[0;32mIn[194], line 1\u001b[0m\n\u001b[0;32m----> 1\u001b[0m \u001b[38;5;28;01massert\u001b[39;00m df_notes_dis_sum\u001b[38;5;241m.\u001b[39mduplicated([\u001b[38;5;124m'\u001b[39m\u001b[38;5;124mHADM_ID\u001b[39m\u001b[38;5;124m'\u001b[39m])\u001b[38;5;241m.\u001b[39msum() \u001b[38;5;241m==\u001b[39m \u001b[38;5;241m0\u001b[39m, \u001b[38;5;124m'\u001b[39m\u001b[38;5;124mMultiple discharge summaries per admission\u001b[39m\u001b[38;5;124m'\u001b[39m\n",
      "\u001b[0;31mAssertionError\u001b[0m: Multiple discharge summaries per admission"
     ]
    }
   ],
   "source": [
    "assert df_notes_dis_sum.duplicated(['HADM_ID']).sum() == 0, 'Multiple discharge summaries per admission'"
   ]
  },
  {
   "cell_type": "code",
   "execution_count": 195,
   "id": "c3bc7025-ca08-40b1-8d62-d05619a25650",
   "metadata": {},
   "outputs": [],
   "source": [
    "df_notes_dis_sum_last = (df_notes_dis_sum.groupby(['SUBJECT_ID','HADM_ID']).nth(-1)).reset_index()"
   ]
  },
  {
   "cell_type": "code",
   "execution_count": 196,
   "id": "a084baae-63a7-4977-a679-01b25839b368",
   "metadata": {},
   "outputs": [],
   "source": [
    "assert df_notes_dis_sum_last.duplicated(['HADM_ID']).sum() == 0, 'Multiple discharge summaries per admission'"
   ]
  },
  {
   "cell_type": "code",
   "execution_count": 197,
   "id": "f7e88280-2ae9-4e0e-b8a1-e24540b8e0bd",
   "metadata": {},
   "outputs": [
    {
     "data": {
      "text/html": [
       "<div>\n",
       "<style scoped>\n",
       "    .dataframe tbody tr th:only-of-type {\n",
       "        vertical-align: middle;\n",
       "    }\n",
       "\n",
       "    .dataframe tbody tr th {\n",
       "        vertical-align: top;\n",
       "    }\n",
       "\n",
       "    .dataframe thead th {\n",
       "        text-align: right;\n",
       "    }\n",
       "</style>\n",
       "<table border=\"1\" class=\"dataframe\">\n",
       "  <thead>\n",
       "    <tr style=\"text-align: right;\">\n",
       "      <th></th>\n",
       "      <th>SUBJECT_ID</th>\n",
       "      <th>HADM_ID</th>\n",
       "      <th>TEXT</th>\n",
       "    </tr>\n",
       "  </thead>\n",
       "  <tbody>\n",
       "    <tr>\n",
       "      <th>0</th>\n",
       "      <td>13702</td>\n",
       "      <td>107527.0</td>\n",
       "      <td>Admission Date:  [**2118-6-2**]       Discharg...</td>\n",
       "    </tr>\n",
       "    <tr>\n",
       "      <th>1</th>\n",
       "      <td>13702</td>\n",
       "      <td>167118.0</td>\n",
       "      <td>Admission Date:  [**2119-5-4**]              D...</td>\n",
       "    </tr>\n",
       "    <tr>\n",
       "      <th>2</th>\n",
       "      <td>13702</td>\n",
       "      <td>196489.0</td>\n",
       "      <td>Admission Date:  [**2124-7-21**]              ...</td>\n",
       "    </tr>\n",
       "    <tr>\n",
       "      <th>3</th>\n",
       "      <td>26880</td>\n",
       "      <td>135453.0</td>\n",
       "      <td>Admission Date:  [**2162-3-3**]              D...</td>\n",
       "    </tr>\n",
       "    <tr>\n",
       "      <th>4</th>\n",
       "      <td>53181</td>\n",
       "      <td>170490.0</td>\n",
       "      <td>Admission Date:  [**2172-3-5**]              D...</td>\n",
       "    </tr>\n",
       "    <tr>\n",
       "      <th>...</th>\n",
       "      <td>...</td>\n",
       "      <td>...</td>\n",
       "      <td>...</td>\n",
       "    </tr>\n",
       "    <tr>\n",
       "      <th>52721</th>\n",
       "      <td>93924</td>\n",
       "      <td>135672.0</td>\n",
       "      <td>Name:  [**Known lastname 18321**],[**Known fir...</td>\n",
       "    </tr>\n",
       "    <tr>\n",
       "      <th>52722</th>\n",
       "      <td>17782</td>\n",
       "      <td>155710.0</td>\n",
       "      <td>Name:  [**Known lastname 2706**], [**Known fir...</td>\n",
       "    </tr>\n",
       "    <tr>\n",
       "      <th>52723</th>\n",
       "      <td>96333</td>\n",
       "      <td>183951.0</td>\n",
       "      <td>Name:  [**Known lastname 18357**]-[**Known las...</td>\n",
       "    </tr>\n",
       "    <tr>\n",
       "      <th>52724</th>\n",
       "      <td>66717</td>\n",
       "      <td>169165.0</td>\n",
       "      <td>Name:  [**Known lastname **],[**Known firstnam...</td>\n",
       "    </tr>\n",
       "    <tr>\n",
       "      <th>52725</th>\n",
       "      <td>73790</td>\n",
       "      <td>157100.0</td>\n",
       "      <td>Name:  [**Known lastname 12459**],[**Known fir...</td>\n",
       "    </tr>\n",
       "  </tbody>\n",
       "</table>\n",
       "<p>52726 rows × 3 columns</p>\n",
       "</div>"
      ],
      "text/plain": [
       "       SUBJECT_ID   HADM_ID                                               TEXT\n",
       "0           13702  107527.0  Admission Date:  [**2118-6-2**]       Discharg...\n",
       "1           13702  167118.0  Admission Date:  [**2119-5-4**]              D...\n",
       "2           13702  196489.0  Admission Date:  [**2124-7-21**]              ...\n",
       "3           26880  135453.0  Admission Date:  [**2162-3-3**]              D...\n",
       "4           53181  170490.0  Admission Date:  [**2172-3-5**]              D...\n",
       "...           ...       ...                                                ...\n",
       "52721       93924  135672.0  Name:  [**Known lastname 18321**],[**Known fir...\n",
       "52722       17782  155710.0  Name:  [**Known lastname 2706**], [**Known fir...\n",
       "52723       96333  183951.0  Name:  [**Known lastname 18357**]-[**Known las...\n",
       "52724       66717  169165.0  Name:  [**Known lastname **],[**Known firstnam...\n",
       "52725       73790  157100.0  Name:  [**Known lastname 12459**],[**Known fir...\n",
       "\n",
       "[52726 rows x 3 columns]"
      ]
     },
     "execution_count": 197,
     "metadata": {},
     "output_type": "execute_result"
    }
   ],
   "source": [
    "df_notes_dis_sum_last.loc[:,['SUBJECT_ID','HADM_ID','TEXT']]"
   ]
  },
  {
   "cell_type": "code",
   "execution_count": 198,
   "id": "14d5a197-7f43-4d1c-9bd2-1a0867e0bd34",
   "metadata": {},
   "outputs": [
    {
     "name": "stdout",
     "output_type": "stream",
     "text": [
      "<class 'pandas.core.frame.DataFrame'>\n",
      "Index: 40711 entries, 0 to 46519\n",
      "Data columns (total 8 columns):\n",
      " #   Column                  Non-Null Count  Dtype         \n",
      "---  ------                  --------------  -----         \n",
      " 0   SUBJECT_ID              40711 non-null  int64         \n",
      " 1   HADM_ID                 40711 non-null  int64         \n",
      " 2   ADMITTIME               40711 non-null  datetime64[ns]\n",
      " 3   DISCHTIME               40711 non-null  datetime64[ns]\n",
      " 4   ADMISSION_TYPE          40711 non-null  object        \n",
      " 5   DEATHTIME               0 non-null      datetime64[ns]\n",
      " 6   DOD                     9950 non-null   datetime64[ns]\n",
      " 7   DEATH_AFTER_ADMIT_DAYS  9950 non-null   float64       \n",
      "dtypes: datetime64[ns](4), float64(1), int64(2), object(1)\n",
      "memory usage: 2.8+ MB\n"
     ]
    }
   ],
   "source": [
    "df_adm_pat.info()"
   ]
  },
  {
   "cell_type": "code",
   "execution_count": 200,
   "id": "ffdd44ce-a730-41a4-9c17-05afecce9ac2",
   "metadata": {},
   "outputs": [],
   "source": [
    "df_adm_notes = pd.merge(df_adm_pat[['SUBJECT_ID','HADM_ID','ADMITTIME','DISCHTIME','ADMISSION_TYPE','DEATHTIME','DOD','DEATH_AFTER_ADMIT_DAYS']],\n",
    "                        df_notes_dis_sum_last[['SUBJECT_ID','HADM_ID','TEXT']],\n",
    "                        on = ['SUBJECT_ID','HADM_ID'],\n",
    "                        how = 'left')\n",
    "assert len(df_adm_pat) == len(df_adm_notes), 'Number of rows increased'"
   ]
  },
  {
   "cell_type": "code",
   "execution_count": 201,
   "id": "f6fd8662-3f1a-4f09-af08-72ea572f4264",
   "metadata": {},
   "outputs": [
    {
     "name": "stdout",
     "output_type": "stream",
     "text": [
      "40711\n",
      "5124\n"
     ]
    }
   ],
   "source": [
    "print(len(df_adm_notes))\n",
    "print(df_adm_notes.TEXT.isnull().sum())"
   ]
  },
  {
   "cell_type": "code",
   "execution_count": 202,
   "id": "0b56dbd1-28d5-47be-8fc7-0b754b5d1128",
   "metadata": {},
   "outputs": [
    {
     "name": "stdout",
     "output_type": "stream",
     "text": [
      "Fraction of missing notes: 0.12586278892682567\n",
      "Fraction of notes with new line: 0.8741372110731743\n",
      "Fraction of ntoes with carriage return: 0.0\n"
     ]
    }
   ],
   "source": [
    "print(\"Fraction of missing notes:\", df_adm_notes.TEXT.isnull().sum()/len(df_adm_notes))\n",
    "print(\"Fraction of notes with new line:\", df_adm_notes.TEXT.str.contains('\\n').sum()/len(df_adm_notes))\n",
    "print(\"Fraction of ntoes with carriage return:\", df_adm_notes.TEXT.str.contains('\\r').sum()/len(df_adm_notes))"
   ]
  },
  {
   "cell_type": "code",
   "execution_count": 203,
   "id": "4fef98ae-acca-478c-9123-8e511e5653ce",
   "metadata": {},
   "outputs": [
    {
     "data": {
      "text/plain": [
       "ADMISSION_TYPE\n",
       "ELECTIVE     0.034011\n",
       "EMERGENCY    0.030776\n",
       "NEWBORN      0.540026\n",
       "URGENT       0.027491\n",
       "dtype: float64"
      ]
     },
     "execution_count": 203,
     "metadata": {},
     "output_type": "execute_result"
    }
   ],
   "source": [
    "df_adm_notes.groupby('ADMISSION_TYPE').apply(lambda a: a.TEXT.isnull().sum())/df_adm_notes.groupby('ADMISSION_TYPE').size()"
   ]
  },
  {
   "cell_type": "code",
   "execution_count": 204,
   "id": "6ae6b2b0-da7e-4a56-918f-4dec8b50d722",
   "metadata": {},
   "outputs": [],
   "source": [
    "df_adm_notes_clean = df_adm_notes.loc[df_adm_notes.ADMISSION_TYPE != 'NEWBORN'].copy()"
   ]
  },
  {
   "cell_type": "code",
   "execution_count": 206,
   "id": "e3497aa6-c8ec-48c4-ab2a-8fd1985beab7",
   "metadata": {},
   "outputs": [
    {
     "name": "stdout",
     "output_type": "stream",
     "text": [
      "<class 'pandas.core.frame.DataFrame'>\n",
      "Index: 33141 entries, 1 to 40710\n",
      "Data columns (total 9 columns):\n",
      " #   Column                  Non-Null Count  Dtype         \n",
      "---  ------                  --------------  -----         \n",
      " 0   SUBJECT_ID              33141 non-null  int64         \n",
      " 1   HADM_ID                 33141 non-null  int64         \n",
      " 2   ADMITTIME               33141 non-null  datetime64[ns]\n",
      " 3   DISCHTIME               33141 non-null  datetime64[ns]\n",
      " 4   ADMISSION_TYPE          33141 non-null  object        \n",
      " 5   DEATHTIME               0 non-null      datetime64[ns]\n",
      " 6   DOD                     9948 non-null   datetime64[ns]\n",
      " 7   DEATH_AFTER_ADMIT_DAYS  9948 non-null   float64       \n",
      " 8   TEXT                    32105 non-null  object        \n",
      "dtypes: datetime64[ns](4), float64(1), int64(2), object(2)\n",
      "memory usage: 2.5+ MB\n",
      "None\n",
      "<class 'pandas.core.frame.DataFrame'>\n",
      "Index: 33141 entries, 1 to 40710\n",
      "Data columns (total 9 columns):\n",
      " #   Column                  Non-Null Count  Dtype         \n",
      "---  ------                  --------------  -----         \n",
      " 0   SUBJECT_ID              33141 non-null  int64         \n",
      " 1   HADM_ID                 33141 non-null  int64         \n",
      " 2   ADMITTIME               33141 non-null  datetime64[ns]\n",
      " 3   DISCHTIME               33141 non-null  datetime64[ns]\n",
      " 4   ADMISSION_TYPE          33141 non-null  object        \n",
      " 5   DEATHTIME               0 non-null      datetime64[ns]\n",
      " 6   DOD                     9948 non-null   datetime64[ns]\n",
      " 7   DEATH_AFTER_ADMIT_DAYS  9948 non-null   float64       \n",
      " 8   TEXT                    32105 non-null  object        \n",
      "dtypes: datetime64[ns](4), float64(1), int64(2), object(2)\n",
      "memory usage: 2.5+ MB\n",
      "None\n"
     ]
    }
   ],
   "source": [
    "# Keep another copy incase of data corrupt\n",
    "print(df_adm_notes_clean.info())\n",
    "df_adm_notes_clean_cp = df_adm_notes_clean\n",
    "print(df_adm_notes_clean_cp.info())"
   ]
  },
  {
   "cell_type": "code",
   "execution_count": 207,
   "id": "a75b8759-4782-4ef6-b0ef-ad501bb50a0c",
   "metadata": {},
   "outputs": [],
   "source": [
    "df_adm_notes_clean['OUTPUT_LABEL'] = (df_adm_notes_clean.DEATH_AFTER_ADMIT_DAYS < 30).astype('int')"
   ]
  },
  {
   "cell_type": "code",
   "execution_count": 208,
   "id": "c4ef9284-7649-4f3e-8cfd-45c8f89eba3f",
   "metadata": {},
   "outputs": [
    {
     "name": "stdout",
     "output_type": "stream",
     "text": [
      "Number of positive samples: 1833\n",
      "Number of negative samples: 31308\n",
      "Total samples: 33141\n"
     ]
    }
   ],
   "source": [
    "print('Number of positive samples:', (df_adm_notes_clean.OUTPUT_LABEL == 1).sum())\n",
    "print('Number of negative samples:',  (df_adm_notes_clean.OUTPUT_LABEL == 0).sum())\n",
    "print('Total samples:', len(df_adm_notes_clean))"
   ]
  },
  {
   "cell_type": "code",
   "execution_count": 212,
   "id": "416d06a8-208e-4ee0-963a-1f7f827266a6",
   "metadata": {},
   "outputs": [],
   "source": [
    "df_adm_notes_clean = df_adm_notes_clean_cp"
   ]
  },
  {
   "cell_type": "code",
   "execution_count": 213,
   "id": "0b1c37f0-a639-4786-9715-53d4f66496e5",
   "metadata": {},
   "outputs": [],
   "source": [
    "df_adm_notes_clean['OUTPUT_LABEL'] = (df_adm_notes_clean.DEATH_AFTER_ADMIT_DAYS <= 30).astype('int')"
   ]
  },
  {
   "cell_type": "code",
   "execution_count": 214,
   "id": "58751297-6b09-4492-8a4d-8612a0951fe4",
   "metadata": {},
   "outputs": [
    {
     "name": "stdout",
     "output_type": "stream",
     "text": [
      "Number of positive samples: 1833\n",
      "Number of negative samples: 31308\n",
      "Total samples: 33141\n"
     ]
    }
   ],
   "source": [
    "print('Number of positive samples:', (df_adm_notes_clean.OUTPUT_LABEL == 1).sum())\n",
    "print('Number of negative samples:',  (df_adm_notes_clean.OUTPUT_LABEL == 0).sum())\n",
    "print('Total samples:', len(df_adm_notes_clean))"
   ]
  },
  {
   "cell_type": "code",
   "execution_count": 215,
   "id": "1dd7308d-f2a5-40d9-9630-e94c11952be0",
   "metadata": {},
   "outputs": [
    {
     "name": "stdout",
     "output_type": "stream",
     "text": [
      "Test prevalence(n = 4971): 0.05371152685576343\n",
      "Valid prevalence(n = 4971): 0.05813719573526453\n",
      "Train all prevalence(n = 23199): 0.05504547609810768\n",
      "all samples (n = 33141)\n"
     ]
    }
   ],
   "source": [
    "# shuffle the samples\n",
    "df_adm_notes_clean = df_adm_notes_clean.sample(n = len(df_adm_notes_clean), random_state = 42)\n",
    "df_adm_notes_clean = df_adm_notes_clean.reset_index(drop = True)\n",
    "\n",
    "# Save 30% of the data as validation and test data\n",
    "df_valid_test=df_adm_notes_clean.sample(frac=0.30,random_state=42)\n",
    "\n",
    "df_test = df_valid_test.sample(frac = 0.5, random_state = 42)\n",
    "df_valid = df_valid_test.drop(df_test.index)\n",
    "\n",
    "# use the rest of the data as training data\n",
    "df_train_all=df_adm_notes_clean.drop(df_valid_test.index)\n",
    "\n",
    "print('Test prevalence(n = %d):'%len(df_test),df_test.OUTPUT_LABEL.sum()/ len(df_test))\n",
    "print('Valid prevalence(n = %d):'%len(df_valid),df_valid.OUTPUT_LABEL.sum()/ len(df_valid))\n",
    "print('Train all prevalence(n = %d):'%len(df_train_all), df_train_all.OUTPUT_LABEL.sum()/ len(df_train_all))\n",
    "print('all samples (n = %d)'%len(df_adm_notes_clean))\n",
    "assert len(df_adm_notes_clean) == (len(df_test)+len(df_valid)+len(df_train_all)),'math didnt work'"
   ]
  },
  {
   "cell_type": "code",
   "execution_count": 216,
   "id": "8903e927-70ba-44a4-8df2-446ac1e87675",
   "metadata": {},
   "outputs": [
    {
     "name": "stdout",
     "output_type": "stream",
     "text": [
      "Train prevalence (n = 2554): 0.5\n"
     ]
    }
   ],
   "source": [
    "# split the training data into positive and negative\n",
    "rows_pos = df_train_all.OUTPUT_LABEL == 1\n",
    "df_train_pos = df_train_all.loc[rows_pos]\n",
    "df_train_neg = df_train_all.loc[~rows_pos]\n",
    "\n",
    "# merge the balanced data\n",
    "df_train = pd.concat([df_train_pos, df_train_neg.sample(n = len(df_train_pos), random_state = 42)],axis = 0)\n",
    "\n",
    "# shuffle the order of training samples\n",
    "df_train = df_train.sample(n = len(df_train), random_state = 42).reset_index(drop = True)\n",
    "\n",
    "print('Train prevalence (n = %d):'%len(df_train), df_train.OUTPUT_LABEL.sum()/ len(df_train))"
   ]
  },
  {
   "cell_type": "code",
   "execution_count": 220,
   "id": "00ffc698-f0ec-47b7-9e0c-4e4eda74eda1",
   "metadata": {},
   "outputs": [],
   "source": [
    "# Processing the discharge summary notes \n",
    "import nltk\n",
    "from nltk import word_tokenize"
   ]
  },
  {
   "cell_type": "code",
   "execution_count": 221,
   "id": "5b0fbdb9-4e05-4d57-836d-9a2d6aad9138",
   "metadata": {},
   "outputs": [],
   "source": [
    "# This function preprocesses the text by filling not a number and replacing new lines ('\\n') and carriage returns ('\\r')\n",
    "def preprocess_text(df):\n",
    "    df.TEXT = df.TEXT.fillna(' ')\n",
    "    df.TEXT =df.TEXT.str.replace('\\n',' ')\n",
    "    df.TEXT =df.TEXT.str.replace('\\r',' ')\n",
    "    return df"
   ]
  },
  {
   "cell_type": "code",
   "execution_count": 222,
   "id": "c1223070-acc0-4386-91cc-967bd4e1590d",
   "metadata": {},
   "outputs": [],
   "source": [
    "# preprocess the train, valid and test data sets to replace na's , newline, carriage-return with space\n",
    "df_train = preprocess_text(df_train)\n",
    "df_valid = preprocess_text(df_valid)\n",
    "df_test = preprocess_text(df_test)"
   ]
  },
  {
   "cell_type": "code",
   "execution_count": 241,
   "id": "95d85637-759c-4ebd-b8eb-51b72a455237",
   "metadata": {},
   "outputs": [],
   "source": [
    "# tokenize the text by replacing punctuation and numbers with spaces and lowercase all words\n",
    "import string\n",
    "\n",
    "def tokenizer_better(text):\n",
    "    punc_list = string.punctuation+'0123456789'\n",
    "    t = str.maketrans(dict.fromkeys(punc_list, \" \"))\n",
    "    text = text.lower().translate(t)\n",
    "    # print(text)\n",
    "    tokens = word_tokenize(text)\n",
    "    return tokens"
   ]
  },
  {
   "cell_type": "code",
   "execution_count": 243,
   "id": "aff64dbb-7889-45e5-9819-29578ad8a758",
   "metadata": {},
   "outputs": [],
   "source": [
    "# Vectorization of words. Convert a collection of text documents to a matrix of token counts.\n",
    "from sklearn.feature_extraction.text import CountVectorizer"
   ]
  },
  {
   "cell_type": "code",
   "execution_count": 244,
   "id": "04b07901-0deb-4e7d-ac72-89f9a0f6c48c",
   "metadata": {},
   "outputs": [
    {
     "name": "stderr",
     "output_type": "stream",
     "text": [
      "/opt/anaconda3/lib/python3.10/site-packages/sklearn/feature_extraction/text.py:525: UserWarning: The parameter 'token_pattern' will not be used since 'tokenizer' is not None'\n",
      "  warnings.warn(\n"
     ]
    },
    {
     "data": {
      "text/html": [
       "<style>#sk-container-id-1 {color: black;}#sk-container-id-1 pre{padding: 0;}#sk-container-id-1 div.sk-toggleable {background-color: white;}#sk-container-id-1 label.sk-toggleable__label {cursor: pointer;display: block;width: 100%;margin-bottom: 0;padding: 0.3em;box-sizing: border-box;text-align: center;}#sk-container-id-1 label.sk-toggleable__label-arrow:before {content: \"▸\";float: left;margin-right: 0.25em;color: #696969;}#sk-container-id-1 label.sk-toggleable__label-arrow:hover:before {color: black;}#sk-container-id-1 div.sk-estimator:hover label.sk-toggleable__label-arrow:before {color: black;}#sk-container-id-1 div.sk-toggleable__content {max-height: 0;max-width: 0;overflow: hidden;text-align: left;background-color: #f0f8ff;}#sk-container-id-1 div.sk-toggleable__content pre {margin: 0.2em;color: black;border-radius: 0.25em;background-color: #f0f8ff;}#sk-container-id-1 input.sk-toggleable__control:checked~div.sk-toggleable__content {max-height: 200px;max-width: 100%;overflow: auto;}#sk-container-id-1 input.sk-toggleable__control:checked~label.sk-toggleable__label-arrow:before {content: \"▾\";}#sk-container-id-1 div.sk-estimator input.sk-toggleable__control:checked~label.sk-toggleable__label {background-color: #d4ebff;}#sk-container-id-1 div.sk-label input.sk-toggleable__control:checked~label.sk-toggleable__label {background-color: #d4ebff;}#sk-container-id-1 input.sk-hidden--visually {border: 0;clip: rect(1px 1px 1px 1px);clip: rect(1px, 1px, 1px, 1px);height: 1px;margin: -1px;overflow: hidden;padding: 0;position: absolute;width: 1px;}#sk-container-id-1 div.sk-estimator {font-family: monospace;background-color: #f0f8ff;border: 1px dotted black;border-radius: 0.25em;box-sizing: border-box;margin-bottom: 0.5em;}#sk-container-id-1 div.sk-estimator:hover {background-color: #d4ebff;}#sk-container-id-1 div.sk-parallel-item::after {content: \"\";width: 100%;border-bottom: 1px solid gray;flex-grow: 1;}#sk-container-id-1 div.sk-label:hover label.sk-toggleable__label {background-color: #d4ebff;}#sk-container-id-1 div.sk-serial::before {content: \"\";position: absolute;border-left: 1px solid gray;box-sizing: border-box;top: 0;bottom: 0;left: 50%;z-index: 0;}#sk-container-id-1 div.sk-serial {display: flex;flex-direction: column;align-items: center;background-color: white;padding-right: 0.2em;padding-left: 0.2em;position: relative;}#sk-container-id-1 div.sk-item {position: relative;z-index: 1;}#sk-container-id-1 div.sk-parallel {display: flex;align-items: stretch;justify-content: center;background-color: white;position: relative;}#sk-container-id-1 div.sk-item::before, #sk-container-id-1 div.sk-parallel-item::before {content: \"\";position: absolute;border-left: 1px solid gray;box-sizing: border-box;top: 0;bottom: 0;left: 50%;z-index: -1;}#sk-container-id-1 div.sk-parallel-item {display: flex;flex-direction: column;z-index: 1;position: relative;background-color: white;}#sk-container-id-1 div.sk-parallel-item:first-child::after {align-self: flex-end;width: 50%;}#sk-container-id-1 div.sk-parallel-item:last-child::after {align-self: flex-start;width: 50%;}#sk-container-id-1 div.sk-parallel-item:only-child::after {width: 0;}#sk-container-id-1 div.sk-dashed-wrapped {border: 1px dashed gray;margin: 0 0.4em 0.5em 0.4em;box-sizing: border-box;padding-bottom: 0.4em;background-color: white;}#sk-container-id-1 div.sk-label label {font-family: monospace;font-weight: bold;display: inline-block;line-height: 1.2em;}#sk-container-id-1 div.sk-label-container {text-align: center;}#sk-container-id-1 div.sk-container {/* jupyter's `normalize.less` sets `[hidden] { display: none; }` but bootstrap.min.css set `[hidden] { display: none !important; }` so we also need the `!important` here to be able to override the default hidden behavior on the sphinx rendered scikit-learn.org. See: https://github.com/scikit-learn/scikit-learn/issues/21755 */display: inline-block !important;position: relative;}#sk-container-id-1 div.sk-text-repr-fallback {display: none;}</style><div id=\"sk-container-id-1\" class=\"sk-top-container\"><div class=\"sk-text-repr-fallback\"><pre>CountVectorizer(max_features=3000,\n",
       "                tokenizer=&lt;function tokenizer_better at 0x7ff4f94bdb40&gt;)</pre><b>In a Jupyter environment, please rerun this cell to show the HTML representation or trust the notebook. <br />On GitHub, the HTML representation is unable to render, please try loading this page with nbviewer.org.</b></div><div class=\"sk-container\" hidden><div class=\"sk-item\"><div class=\"sk-estimator sk-toggleable\"><input class=\"sk-toggleable__control sk-hidden--visually\" id=\"sk-estimator-id-1\" type=\"checkbox\" checked><label for=\"sk-estimator-id-1\" class=\"sk-toggleable__label sk-toggleable__label-arrow\">CountVectorizer</label><div class=\"sk-toggleable__content\"><pre>CountVectorizer(max_features=3000,\n",
       "                tokenizer=&lt;function tokenizer_better at 0x7ff4f94bdb40&gt;)</pre></div></div></div></div></div>"
      ],
      "text/plain": [
       "CountVectorizer(max_features=3000,\n",
       "                tokenizer=<function tokenizer_better at 0x7ff4f94bdb40>)"
      ]
     },
     "execution_count": 244,
     "metadata": {},
     "output_type": "execute_result"
    }
   ],
   "source": [
    "vectorizer = CountVectorizer(max_features = 3000, tokenizer = tokenizer_better)\n",
    "vectorizer.fit(df_train.TEXT.values)"
   ]
  },
  {
   "cell_type": "code",
   "execution_count": 247,
   "id": "6b777f85-09e2-4162-a6b5-d5690c174fa3",
   "metadata": {},
   "outputs": [
    {
     "data": {
      "text/html": [
       "<div>\n",
       "<style scoped>\n",
       "    .dataframe tbody tr th:only-of-type {\n",
       "        vertical-align: middle;\n",
       "    }\n",
       "\n",
       "    .dataframe tbody tr th {\n",
       "        vertical-align: top;\n",
       "    }\n",
       "\n",
       "    .dataframe thead th {\n",
       "        text-align: right;\n",
       "    }\n",
       "</style>\n",
       "<table border=\"1\" class=\"dataframe\">\n",
       "  <thead>\n",
       "    <tr style=\"text-align: right;\">\n",
       "      <th></th>\n",
       "      <th>negative</th>\n",
       "      <th>positive</th>\n",
       "      <th>total</th>\n",
       "    </tr>\n",
       "  </thead>\n",
       "  <tbody>\n",
       "    <tr>\n",
       "      <th>the</th>\n",
       "      <td>41945</td>\n",
       "      <td>49670</td>\n",
       "      <td>91615</td>\n",
       "    </tr>\n",
       "    <tr>\n",
       "      <th>and</th>\n",
       "      <td>37933</td>\n",
       "      <td>46230</td>\n",
       "      <td>84163</td>\n",
       "    </tr>\n",
       "    <tr>\n",
       "      <th>to</th>\n",
       "      <td>32501</td>\n",
       "      <td>41216</td>\n",
       "      <td>73717</td>\n",
       "    </tr>\n",
       "    <tr>\n",
       "      <th>of</th>\n",
       "      <td>30309</td>\n",
       "      <td>38620</td>\n",
       "      <td>68929</td>\n",
       "    </tr>\n",
       "    <tr>\n",
       "      <th>was</th>\n",
       "      <td>28114</td>\n",
       "      <td>34217</td>\n",
       "      <td>62331</td>\n",
       "    </tr>\n",
       "    <tr>\n",
       "      <th>with</th>\n",
       "      <td>22873</td>\n",
       "      <td>28661</td>\n",
       "      <td>51534</td>\n",
       "    </tr>\n",
       "    <tr>\n",
       "      <th>a</th>\n",
       "      <td>21825</td>\n",
       "      <td>24696</td>\n",
       "      <td>46521</td>\n",
       "    </tr>\n",
       "    <tr>\n",
       "      <th>on</th>\n",
       "      <td>19130</td>\n",
       "      <td>24815</td>\n",
       "      <td>43945</td>\n",
       "    </tr>\n",
       "    <tr>\n",
       "      <th>in</th>\n",
       "      <td>17905</td>\n",
       "      <td>21569</td>\n",
       "      <td>39474</td>\n",
       "    </tr>\n",
       "    <tr>\n",
       "      <th>mg</th>\n",
       "      <td>17600</td>\n",
       "      <td>21769</td>\n",
       "      <td>39369</td>\n",
       "    </tr>\n",
       "  </tbody>\n",
       "</table>\n",
       "</div>"
      ],
      "text/plain": [
       "      negative  positive  total\n",
       "the      41945     49670  91615\n",
       "and      37933     46230  84163\n",
       "to       32501     41216  73717\n",
       "of       30309     38620  68929\n",
       "was      28114     34217  62331\n",
       "with     22873     28661  51534\n",
       "a        21825     24696  46521\n",
       "on       19130     24815  43945\n",
       "in       17905     21569  39474\n",
       "mg       17600     21769  39369"
      ]
     },
     "execution_count": 247,
     "metadata": {},
     "output_type": "execute_result"
    }
   ],
   "source": [
    "import numpy as np\n",
    "\n",
    "neg_doc_matrix = vectorizer.transform(df_train[df_train.OUTPUT_LABEL == 0].TEXT)\n",
    "pos_doc_matrix = vectorizer.transform(df_train[df_train.OUTPUT_LABEL == 1].TEXT)\n",
    "\n",
    "neg_tf = np.sum(neg_doc_matrix,axis=0)\n",
    "pos_tf = np.sum(pos_doc_matrix,axis=0)\n",
    "\n",
    "neg = np.squeeze(np.asarray(neg_tf))\n",
    "pos = np.squeeze(np.asarray(pos_tf))\n",
    "\n",
    "term_freq_df = pd.DataFrame([neg,pos],columns=vectorizer.get_feature_names_out()).transpose()\n",
    "\n",
    "term_freq_df.columns = ['negative', 'positive']\n",
    "term_freq_df['total'] = term_freq_df['negative'] + term_freq_df['positive']\n",
    "term_freq_df.sort_values(by='total', ascending=False).iloc[:10]"
   ]
  },
  {
   "cell_type": "code",
   "execution_count": 248,
   "id": "941c93cc-1904-415e-9fbb-6da165407ad3",
   "metadata": {},
   "outputs": [
    {
     "data": {
      "image/png": "[encoded data removed]",
      "text/plain": [
       "<Figure size 1000x600 with 1 Axes>"
      ]
     },
     "metadata": {},
     "output_type": "display_data"
    },
    {
     "data": {
      "image/png": "[encoded data removed]",
      "text/plain": [
       "<Figure size 1000x600 with 1 Axes>"
      ]
     },
     "metadata": {},
     "output_type": "display_data"
    }
   ],
   "source": [
    "#Create a series from the sparse matrix\n",
    "d = pd.Series(term_freq_df.total,\n",
    "              index = term_freq_df.index).sort_values(ascending=False)\n",
    "ax = d[:50].plot(kind='bar', figsize=(10,6), width=.8, fontsize=14, rot=90,color = 'b')\n",
    "ax.title.set_size(18)\n",
    "plt.ylabel('count')\n",
    "plt.show()\n",
    "ax = d[50:100].plot(kind='bar', figsize=(10,6), width=.8, fontsize=14, rot=90,color = 'b')\n",
    "ax.title.set_size(18)\n",
    "plt.ylabel('count')\n",
    "plt.show()"
   ]
  },
  {
   "cell_type": "code",
   "execution_count": 249,
   "id": "b8ec4920-7525-44a3-9221-8321005c4bc4",
   "metadata": {},
   "outputs": [],
   "source": [
    "new_stop_words = ['the','and','to','of','was','with','a','on','in','for','name',\n",
    "                 'is','patient','s','he','at','as','or','one','she','his','her','am',\n",
    "                 'were','you','pt','pm','by','be','had','your','this','date',\n",
    "                'from','there','an','that','p','are','have','has','h','but','o',\n",
    "                'namepattern','which','every','also','q','up','will']"
   ]
  },
  {
   "cell_type": "code",
   "execution_count": 251,
   "id": "6372d0b8-00fb-4043-9fb7-70a3402a10ec",
   "metadata": {},
   "outputs": [
    {
     "name": "stderr",
     "output_type": "stream",
     "text": [
      "/opt/anaconda3/lib/python3.10/site-packages/sklearn/feature_extraction/text.py:525: UserWarning: The parameter 'token_pattern' will not be used since 'tokenizer' is not None'\n",
      "  warnings.warn(\n"
     ]
    },
    {
     "data": {
      "text/html": [
       "<style>#sk-container-id-2 {color: black;}#sk-container-id-2 pre{padding: 0;}#sk-container-id-2 div.sk-toggleable {background-color: white;}#sk-container-id-2 label.sk-toggleable__label {cursor: pointer;display: block;width: 100%;margin-bottom: 0;padding: 0.3em;box-sizing: border-box;text-align: center;}#sk-container-id-2 label.sk-toggleable__label-arrow:before {content: \"▸\";float: left;margin-right: 0.25em;color: #696969;}#sk-container-id-2 label.sk-toggleable__label-arrow:hover:before {color: black;}#sk-container-id-2 div.sk-estimator:hover label.sk-toggleable__label-arrow:before {color: black;}#sk-container-id-2 div.sk-toggleable__content {max-height: 0;max-width: 0;overflow: hidden;text-align: left;background-color: #f0f8ff;}#sk-container-id-2 div.sk-toggleable__content pre {margin: 0.2em;color: black;border-radius: 0.25em;background-color: #f0f8ff;}#sk-container-id-2 input.sk-toggleable__control:checked~div.sk-toggleable__content {max-height: 200px;max-width: 100%;overflow: auto;}#sk-container-id-2 input.sk-toggleable__control:checked~label.sk-toggleable__label-arrow:before {content: \"▾\";}#sk-container-id-2 div.sk-estimator input.sk-toggleable__control:checked~label.sk-toggleable__label {background-color: #d4ebff;}#sk-container-id-2 div.sk-label input.sk-toggleable__control:checked~label.sk-toggleable__label {background-color: #d4ebff;}#sk-container-id-2 input.sk-hidden--visually {border: 0;clip: rect(1px 1px 1px 1px);clip: rect(1px, 1px, 1px, 1px);height: 1px;margin: -1px;overflow: hidden;padding: 0;position: absolute;width: 1px;}#sk-container-id-2 div.sk-estimator {font-family: monospace;background-color: #f0f8ff;border: 1px dotted black;border-radius: 0.25em;box-sizing: border-box;margin-bottom: 0.5em;}#sk-container-id-2 div.sk-estimator:hover {background-color: #d4ebff;}#sk-container-id-2 div.sk-parallel-item::after {content: \"\";width: 100%;border-bottom: 1px solid gray;flex-grow: 1;}#sk-container-id-2 div.sk-label:hover label.sk-toggleable__label {background-color: #d4ebff;}#sk-container-id-2 div.sk-serial::before {content: \"\";position: absolute;border-left: 1px solid gray;box-sizing: border-box;top: 0;bottom: 0;left: 50%;z-index: 0;}#sk-container-id-2 div.sk-serial {display: flex;flex-direction: column;align-items: center;background-color: white;padding-right: 0.2em;padding-left: 0.2em;position: relative;}#sk-container-id-2 div.sk-item {position: relative;z-index: 1;}#sk-container-id-2 div.sk-parallel {display: flex;align-items: stretch;justify-content: center;background-color: white;position: relative;}#sk-container-id-2 div.sk-item::before, #sk-container-id-2 div.sk-parallel-item::before {content: \"\";position: absolute;border-left: 1px solid gray;box-sizing: border-box;top: 0;bottom: 0;left: 50%;z-index: -1;}#sk-container-id-2 div.sk-parallel-item {display: flex;flex-direction: column;z-index: 1;position: relative;background-color: white;}#sk-container-id-2 div.sk-parallel-item:first-child::after {align-self: flex-end;width: 50%;}#sk-container-id-2 div.sk-parallel-item:last-child::after {align-self: flex-start;width: 50%;}#sk-container-id-2 div.sk-parallel-item:only-child::after {width: 0;}#sk-container-id-2 div.sk-dashed-wrapped {border: 1px dashed gray;margin: 0 0.4em 0.5em 0.4em;box-sizing: border-box;padding-bottom: 0.4em;background-color: white;}#sk-container-id-2 div.sk-label label {font-family: monospace;font-weight: bold;display: inline-block;line-height: 1.2em;}#sk-container-id-2 div.sk-label-container {text-align: center;}#sk-container-id-2 div.sk-container {/* jupyter's `normalize.less` sets `[hidden] { display: none; }` but bootstrap.min.css set `[hidden] { display: none !important; }` so we also need the `!important` here to be able to override the default hidden behavior on the sphinx rendered scikit-learn.org. See: https://github.com/scikit-learn/scikit-learn/issues/21755 */display: inline-block !important;position: relative;}#sk-container-id-2 div.sk-text-repr-fallback {display: none;}</style><div id=\"sk-container-id-2\" class=\"sk-top-container\"><div class=\"sk-text-repr-fallback\"><pre>CountVectorizer(max_features=3000,\n",
       "                stop_words=[&#x27;the&#x27;, &#x27;and&#x27;, &#x27;to&#x27;, &#x27;of&#x27;, &#x27;was&#x27;, &#x27;with&#x27;, &#x27;a&#x27;, &#x27;on&#x27;,\n",
       "                            &#x27;in&#x27;, &#x27;for&#x27;, &#x27;name&#x27;, &#x27;is&#x27;, &#x27;patient&#x27;, &#x27;s&#x27;, &#x27;he&#x27;,\n",
       "                            &#x27;at&#x27;, &#x27;as&#x27;, &#x27;or&#x27;, &#x27;one&#x27;, &#x27;she&#x27;, &#x27;his&#x27;, &#x27;her&#x27;, &#x27;am&#x27;,\n",
       "                            &#x27;were&#x27;, &#x27;you&#x27;, &#x27;pt&#x27;, &#x27;pm&#x27;, &#x27;by&#x27;, &#x27;be&#x27;, &#x27;had&#x27;, ...],\n",
       "                tokenizer=&lt;function tokenizer_better at 0x7ff4f94bdb40&gt;)</pre><b>In a Jupyter environment, please rerun this cell to show the HTML representation or trust the notebook. <br />On GitHub, the HTML representation is unable to render, please try loading this page with nbviewer.org.</b></div><div class=\"sk-container\" hidden><div class=\"sk-item\"><div class=\"sk-estimator sk-toggleable\"><input class=\"sk-toggleable__control sk-hidden--visually\" id=\"sk-estimator-id-2\" type=\"checkbox\" checked><label for=\"sk-estimator-id-2\" class=\"sk-toggleable__label sk-toggleable__label-arrow\">CountVectorizer</label><div class=\"sk-toggleable__content\"><pre>CountVectorizer(max_features=3000,\n",
       "                stop_words=[&#x27;the&#x27;, &#x27;and&#x27;, &#x27;to&#x27;, &#x27;of&#x27;, &#x27;was&#x27;, &#x27;with&#x27;, &#x27;a&#x27;, &#x27;on&#x27;,\n",
       "                            &#x27;in&#x27;, &#x27;for&#x27;, &#x27;name&#x27;, &#x27;is&#x27;, &#x27;patient&#x27;, &#x27;s&#x27;, &#x27;he&#x27;,\n",
       "                            &#x27;at&#x27;, &#x27;as&#x27;, &#x27;or&#x27;, &#x27;one&#x27;, &#x27;she&#x27;, &#x27;his&#x27;, &#x27;her&#x27;, &#x27;am&#x27;,\n",
       "                            &#x27;were&#x27;, &#x27;you&#x27;, &#x27;pt&#x27;, &#x27;pm&#x27;, &#x27;by&#x27;, &#x27;be&#x27;, &#x27;had&#x27;, ...],\n",
       "                tokenizer=&lt;function tokenizer_better at 0x7ff4f94bdb40&gt;)</pre></div></div></div></div></div>"
      ],
      "text/plain": [
       "CountVectorizer(max_features=3000,\n",
       "                stop_words=['the', 'and', 'to', 'of', 'was', 'with', 'a', 'on',\n",
       "                            'in', 'for', 'name', 'is', 'patient', 's', 'he',\n",
       "                            'at', 'as', 'or', 'one', 'she', 'his', 'her', 'am',\n",
       "                            'were', 'you', 'pt', 'pm', 'by', 'be', 'had', ...],\n",
       "                tokenizer=<function tokenizer_better at 0x7ff4f94bdb40>)"
      ]
     },
     "execution_count": 251,
     "metadata": {},
     "output_type": "execute_result"
    }
   ],
   "source": [
    "# Re-generate word vector with updated stop words\n",
    "\n",
    "vectorizer = CountVectorizer(max_features = 3000,\n",
    "                       tokenizer = tokenizer_better,\n",
    "                       stop_words = new_stop_words)\n",
    "\n",
    "vectorizer.fit(df_train.TEXT.values)"
   ]
  },
  {
   "cell_type": "code",
   "execution_count": 252,
   "id": "3e5ddd32-0d1b-4e0e-ac52-75612648997c",
   "metadata": {},
   "outputs": [],
   "source": [
    "X_train_tf = vectorizer.transform(df_train.TEXT.values)\n",
    "X_valid_tf = vectorizer.transform(df_valid.TEXT.values)"
   ]
  },
  {
   "cell_type": "code",
   "execution_count": 253,
   "id": "ca48c3a0-98d2-4085-b4aa-be7ed2842f2e",
   "metadata": {},
   "outputs": [],
   "source": [
    "y_train = df_train.OUTPUT_LABEL\n",
    "y_valid = df_valid.OUTPUT_LABEL"
   ]
  },
  {
   "cell_type": "code",
   "execution_count": 254,
   "id": "90714f4f-b956-43e1-8997-c96072af7811",
   "metadata": {},
   "outputs": [],
   "source": [
    "from sklearn.pipeline import Pipeline\n",
    "from sklearn.linear_model import LogisticRegression\n",
    "from sklearn.tree import DecisionTreeClassifier\n",
    "from sklearn.ensemble import RandomForestClassifier\n",
    "from sklearn.svm import SVC\n",
    "from sklearn.svm import LinearSVC\n",
    "from sklearn.model_selection import GridSearchCV\n",
    "from sklearn.model_selection import cross_val_score\n",
    "from sklearn.metrics import precision_score, recall_score, confusion_matrix, classification_report, accuracy_score, f1_score\n",
    "from sklearn import metrics\n",
    "from sklearn.metrics import roc_curve, auc, roc_auc_score"
   ]
  },
  {
   "cell_type": "code",
   "execution_count": 255,
   "id": "9d469512-aaa7-4d45-85c6-400dc4d0e970",
   "metadata": {},
   "outputs": [
    {
     "name": "stderr",
     "output_type": "stream",
     "text": [
      "/opt/anaconda3/lib/python3.10/site-packages/sklearn/linear_model/_logistic.py:460: ConvergenceWarning: lbfgs failed to converge (status=1):\n",
      "STOP: TOTAL NO. of ITERATIONS REACHED LIMIT.\n",
      "\n",
      "Increase the number of iterations (max_iter) or scale the data as shown in:\n",
      "    https://scikit-learn.org/stable/modules/preprocessing.html\n",
      "Please also refer to the documentation for alternative solver options:\n",
      "    https://scikit-learn.org/stable/modules/linear_model.html#logistic-regression\n",
      "  n_iter_i = _check_optimize_result(\n",
      "/opt/anaconda3/lib/python3.10/site-packages/sklearn/linear_model/_logistic.py:460: ConvergenceWarning: lbfgs failed to converge (status=1):\n",
      "STOP: TOTAL NO. of ITERATIONS REACHED LIMIT.\n",
      "\n",
      "Increase the number of iterations (max_iter) or scale the data as shown in:\n",
      "    https://scikit-learn.org/stable/modules/preprocessing.html\n",
      "Please also refer to the documentation for alternative solver options:\n",
      "    https://scikit-learn.org/stable/modules/linear_model.html#logistic-regression\n",
      "  n_iter_i = _check_optimize_result(\n",
      "/opt/anaconda3/lib/python3.10/site-packages/sklearn/linear_model/_logistic.py:460: ConvergenceWarning: lbfgs failed to converge (status=1):\n",
      "STOP: TOTAL NO. of ITERATIONS REACHED LIMIT.\n",
      "\n",
      "Increase the number of iterations (max_iter) or scale the data as shown in:\n",
      "    https://scikit-learn.org/stable/modules/preprocessing.html\n",
      "Please also refer to the documentation for alternative solver options:\n",
      "    https://scikit-learn.org/stable/modules/linear_model.html#logistic-regression\n",
      "  n_iter_i = _check_optimize_result(\n",
      "/opt/anaconda3/lib/python3.10/site-packages/sklearn/linear_model/_logistic.py:460: ConvergenceWarning: lbfgs failed to converge (status=1):\n",
      "STOP: TOTAL NO. of ITERATIONS REACHED LIMIT.\n",
      "\n",
      "Increase the number of iterations (max_iter) or scale the data as shown in:\n",
      "    https://scikit-learn.org/stable/modules/preprocessing.html\n",
      "Please also refer to the documentation for alternative solver options:\n",
      "    https://scikit-learn.org/stable/modules/linear_model.html#logistic-regression\n",
      "  n_iter_i = _check_optimize_result(\n",
      "/opt/anaconda3/lib/python3.10/site-packages/sklearn/linear_model/_logistic.py:460: ConvergenceWarning: lbfgs failed to converge (status=1):\n",
      "STOP: TOTAL NO. of ITERATIONS REACHED LIMIT.\n",
      "\n",
      "Increase the number of iterations (max_iter) or scale the data as shown in:\n",
      "    https://scikit-learn.org/stable/modules/preprocessing.html\n",
      "Please also refer to the documentation for alternative solver options:\n",
      "    https://scikit-learn.org/stable/modules/linear_model.html#logistic-regression\n",
      "  n_iter_i = _check_optimize_result(\n",
      "/opt/anaconda3/lib/python3.10/site-packages/sklearn/linear_model/_logistic.py:460: ConvergenceWarning: lbfgs failed to converge (status=1):\n",
      "STOP: TOTAL NO. of ITERATIONS REACHED LIMIT.\n",
      "\n",
      "Increase the number of iterations (max_iter) or scale the data as shown in:\n",
      "    https://scikit-learn.org/stable/modules/preprocessing.html\n",
      "Please also refer to the documentation for alternative solver options:\n",
      "    https://scikit-learn.org/stable/modules/linear_model.html#logistic-regression\n",
      "  n_iter_i = _check_optimize_result(\n",
      "/opt/anaconda3/lib/python3.10/site-packages/sklearn/linear_model/_logistic.py:460: ConvergenceWarning: lbfgs failed to converge (status=1):\n",
      "STOP: TOTAL NO. of ITERATIONS REACHED LIMIT.\n",
      "\n",
      "Increase the number of iterations (max_iter) or scale the data as shown in:\n",
      "    https://scikit-learn.org/stable/modules/preprocessing.html\n",
      "Please also refer to the documentation for alternative solver options:\n",
      "    https://scikit-learn.org/stable/modules/linear_model.html#logistic-regression\n",
      "  n_iter_i = _check_optimize_result(\n",
      "/opt/anaconda3/lib/python3.10/site-packages/sklearn/linear_model/_logistic.py:460: ConvergenceWarning: lbfgs failed to converge (status=1):\n",
      "STOP: TOTAL NO. of ITERATIONS REACHED LIMIT.\n",
      "\n",
      "Increase the number of iterations (max_iter) or scale the data as shown in:\n",
      "    https://scikit-learn.org/stable/modules/preprocessing.html\n",
      "Please also refer to the documentation for alternative solver options:\n",
      "    https://scikit-learn.org/stable/modules/linear_model.html#logistic-regression\n",
      "  n_iter_i = _check_optimize_result(\n",
      "/opt/anaconda3/lib/python3.10/site-packages/sklearn/linear_model/_logistic.py:460: ConvergenceWarning: lbfgs failed to converge (status=1):\n",
      "STOP: TOTAL NO. of ITERATIONS REACHED LIMIT.\n",
      "\n",
      "Increase the number of iterations (max_iter) or scale the data as shown in:\n",
      "    https://scikit-learn.org/stable/modules/preprocessing.html\n",
      "Please also refer to the documentation for alternative solver options:\n",
      "    https://scikit-learn.org/stable/modules/linear_model.html#logistic-regression\n",
      "  n_iter_i = _check_optimize_result(\n",
      "/opt/anaconda3/lib/python3.10/site-packages/sklearn/linear_model/_logistic.py:460: ConvergenceWarning: lbfgs failed to converge (status=1):\n",
      "STOP: TOTAL NO. of ITERATIONS REACHED LIMIT.\n",
      "\n",
      "Increase the number of iterations (max_iter) or scale the data as shown in:\n",
      "    https://scikit-learn.org/stable/modules/preprocessing.html\n",
      "Please also refer to the documentation for alternative solver options:\n",
      "    https://scikit-learn.org/stable/modules/linear_model.html#logistic-regression\n",
      "  n_iter_i = _check_optimize_result(\n",
      "/opt/anaconda3/lib/python3.10/site-packages/sklearn/linear_model/_logistic.py:460: ConvergenceWarning: lbfgs failed to converge (status=1):\n",
      "STOP: TOTAL NO. of ITERATIONS REACHED LIMIT.\n",
      "\n",
      "Increase the number of iterations (max_iter) or scale the data as shown in:\n",
      "    https://scikit-learn.org/stable/modules/preprocessing.html\n",
      "Please also refer to the documentation for alternative solver options:\n",
      "    https://scikit-learn.org/stable/modules/linear_model.html#logistic-regression\n",
      "  n_iter_i = _check_optimize_result(\n"
     ]
    },
    {
     "name": "stdout",
     "output_type": "stream",
     "text": [
      "Logistic Regression: 0.758032 \n",
      "Decision Tree: 0.719268 \n",
      "RandomForest: 0.787768 \n",
      "SVC: 0.779937 \n"
     ]
    }
   ],
   "source": [
    "#A quick model selection process\n",
    "#pipelines of models( it is short was to fit and pred)\n",
    "pipeline_lr=Pipeline([('lr_classifier',LogisticRegression(random_state=42))])\n",
    "\n",
    "pipeline_dt=Pipeline([ ('dt_classifier',DecisionTreeClassifier(random_state=42))])\n",
    "\n",
    "pipeline_rf=Pipeline([('rf_classifier',RandomForestClassifier())])\n",
    "\n",
    "pipeline_svc=Pipeline([('sv_classifier',SVC())])\n",
    "\n",
    "# List of all the pipelines\n",
    "pipelines = [pipeline_lr, pipeline_dt, pipeline_rf, pipeline_svc]\n",
    "\n",
    "# Dictionary of pipelines and classifier types for ease of reference\n",
    "pipe_dict = {0: 'Logistic Regression', 1: 'Decision Tree', 2: 'RandomForest', 3: \"SVC\"}\n",
    "\n",
    "\n",
    "# Fit the pipelines\n",
    "for pipe in pipelines:\n",
    "    pipe.fit(X_train_tf, y_train)\n",
    "# model.fit(X_train_tf, y_train)\n",
    "#cross validation on accuracy \n",
    "cv_results_accuracy = []\n",
    "for i, model in enumerate(pipelines):\n",
    "    cv_score = cross_val_score(model, X_train_tf,y_train, cv=10 )\n",
    "    cv_results_accuracy.append(cv_score)\n",
    "    print(\"%s: %f \" % (pipe_dict[i], cv_score.mean()))"
   ]
  },
  {
   "cell_type": "code",
   "execution_count": 259,
   "id": "8d12af78-c574-44ec-a1b9-78e56f507643",
   "metadata": {},
   "outputs": [],
   "source": [
    "def calc_accuracy(y_actual, y_pred, thresh):\n",
    "    # this function calculates the accuracy with probability threshold at thresh\n",
    "    return (sum((y_pred > thresh) & (y_actual == 1))+sum((y_pred < thresh) & (y_actual == 0))) /len(y_actual)\n",
    "\n",
    "def calc_recall(y_actual, y_pred, thresh):\n",
    "    # calculates the recall\n",
    "    return sum((y_pred > thresh) & (y_actual == 1)) /sum(y_actual)\n",
    "\n",
    "def calc_precision(y_actual, y_pred, thresh):\n",
    "    # calculates the precision\n",
    "    return sum((y_pred > thresh) & (y_actual == 1)) /sum(y_pred > thresh)\n",
    "\n",
    "def calc_specificity(y_actual, y_pred, thresh):\n",
    "    # calculates specificity\n",
    "    return sum((y_pred < thresh) & (y_actual == 0)) /sum(y_actual ==0)\n",
    "\n",
    "def calc_prevalence(y_actual):\n",
    "    # calculates prevalence\n",
    "    return sum((y_actual == 1)) /len(y_actual)"
   ]
  },
  {
   "cell_type": "code",
   "execution_count": 280,
   "id": "1be692f6-f526-4dfd-afb1-3836ef495c79",
   "metadata": {},
   "outputs": [],
   "source": [
    "def print_metrics(y_train,y_train_preds, y_valid, y_valid_preds, thresh, validOrTest):\n",
    "    from sklearn.metrics import roc_curve\n",
    "    from sklearn.metrics import roc_auc_score\n",
    "\n",
    "    fpr_train, tpr_train, thresholds_train = roc_curve(y_train, y_train_preds)\n",
    "    fpr_valid, tpr_valid, thresholds_valid = roc_curve(y_valid, y_valid_preds)\n",
    "    \n",
    "    auc_train = roc_auc_score(y_train, y_train_preds)\n",
    "    auc_valid = roc_auc_score(y_valid, y_valid_preds)\n",
    "    \n",
    "    print('Train AUC:%.3f'%auc_train)\n",
    "    print(validOrTest,' AUC:%.3f'%auc_valid)\n",
    "    \n",
    "    print('Train accuracy:%.3f'%calc_accuracy(y_train, y_train_preds, thresh))\n",
    "    print(validOrTest,' accuracy:%.3f'%calc_accuracy(y_valid, y_valid_preds, thresh))\n",
    "    \n",
    "    \n",
    "    print('Train recall:%.3f'%calc_recall(y_train, y_train_preds, thresh))\n",
    "    print(validOrTest,' recall:%.3f'%calc_recall(y_valid, y_valid_preds, thresh))\n",
    "    \n",
    "    print('Train precision:%.3f'%calc_precision(y_train, y_train_preds, thresh))\n",
    "    print(validOrTest,' precision:%.3f'%calc_precision(y_valid, y_valid_preds, thresh))\n",
    "    \n",
    "    print('Train specificity:%.3f'%calc_specificity(y_train, y_train_preds, thresh))\n",
    "    print(validOrTest,' specificity:%.3f'%calc_specificity(y_valid, y_valid_preds, thresh))\n",
    "    \n",
    "    print('Train prevalence:%.3f'%calc_prevalence(y_train))\n",
    "    print(validOrTest,' prevalence:%.3f'%calc_prevalence(y_valid))\n",
    "    \n",
    "    plt.plot(fpr_train, tpr_train,'r-', label = 'Train AUC: %.2f'%auc_train)\n",
    "    plt.plot(fpr_valid, tpr_valid,'b-', label = validOrTest+' AUC: %.2f'%auc_valid)\n",
    "    plt.plot([0,1],[0,1],'-k')\n",
    "    plt.xlabel('False Positive Rate')\n",
    "    plt.ylabel('True Positive Rate')\n",
    "    plt.legend()\n",
    "    plt.show()"
   ]
  },
  {
   "cell_type": "code",
   "execution_count": 256,
   "id": "e371b98f-0fc2-4e98-8ab6-384aaf8ff882",
   "metadata": {},
   "outputs": [],
   "source": [
    "#Building a dictionalry with list of optional values that will me analyesed by GridSearch CV\n",
    "parameters = { \n",
    "    'n_estimators': [100,150, 200,500,700,900],\n",
    "    'max_features': ['auto', 'sqrt', 'log2'],\n",
    "    'max_depth' : [4,6,8,12,14,16],\n",
    "    'criterion' :['gini', 'entropy'],\n",
    "    'n_jobs':[-1,1,None]\n",
    "}"
   ]
  },
  {
   "cell_type": "code",
   "execution_count": 257,
   "id": "9c51dce9-f132-493d-b2b4-6a804b6e8c3c",
   "metadata": {},
   "outputs": [
    {
     "name": "stderr",
     "output_type": "stream",
     "text": [
      "/opt/anaconda3/lib/python3.10/site-packages/sklearn/model_selection/_validation.py:425: FitFailedWarning: \n",
      "1080 fits failed out of a total of 3240.\n",
      "The score on these train-test partitions for these parameters will be set to nan.\n",
      "If these failures are not expected, you can try to debug them by setting error_score='raise'.\n",
      "\n",
      "Below are more details about the failures:\n",
      "--------------------------------------------------------------------------------\n",
      "1080 fits failed with the following error:\n",
      "Traceback (most recent call last):\n",
      "  File \"/opt/anaconda3/lib/python3.10/site-packages/sklearn/model_selection/_validation.py\", line 732, in _fit_and_score\n",
      "    estimator.fit(X_train, y_train, **fit_params)\n",
      "  File \"/opt/anaconda3/lib/python3.10/site-packages/sklearn/base.py\", line 1144, in wrapper\n",
      "    estimator._validate_params()\n",
      "  File \"/opt/anaconda3/lib/python3.10/site-packages/sklearn/base.py\", line 637, in _validate_params\n",
      "    validate_parameter_constraints(\n",
      "  File \"/opt/anaconda3/lib/python3.10/site-packages/sklearn/utils/_param_validation.py\", line 95, in validate_parameter_constraints\n",
      "    raise InvalidParameterError(\n",
      "sklearn.utils._param_validation.InvalidParameterError: The 'max_features' parameter of RandomForestClassifier must be an int in the range [1, inf), a float in the range (0.0, 1.0], a str among {'log2', 'sqrt'} or None. Got 'auto' instead.\n",
      "\n",
      "  warnings.warn(some_fits_failed_message, FitFailedWarning)\n",
      "/opt/anaconda3/lib/python3.10/site-packages/sklearn/model_selection/_search.py:976: UserWarning: One or more of the test scores are non-finite: [       nan        nan        nan        nan        nan        nan\n",
      "        nan        nan        nan        nan        nan        nan\n",
      "        nan        nan        nan        nan        nan        nan\n",
      " 0.77525344 0.77133801 0.76781551 0.76899505 0.77016692 0.770556\n",
      " 0.77055831 0.7682069  0.7693826  0.77134108 0.76664288 0.77016538\n",
      " 0.77133801 0.76781551 0.77369019 0.76781628 0.76781628 0.77094663\n",
      " 0.74392694 0.74158551 0.74118645 0.74588466 0.74824143 0.74393461\n",
      " 0.74823453 0.75489352 0.75097732 0.7517624  0.74588619 0.75254211\n",
      " 0.75371858 0.74510341 0.74784774 0.75175933 0.75137255 0.75215226\n",
      "        nan        nan        nan        nan        nan        nan\n",
      "        nan        nan        nan        nan        nan        nan\n",
      "        nan        nan        nan        nan        nan        nan\n",
      " 0.77368712 0.78504278 0.77524961 0.78073366 0.78112659 0.77094739\n",
      " 0.78073597 0.78425924 0.77994935 0.77682207 0.77877825 0.77995165\n",
      " 0.77642915 0.77721039 0.77799164 0.78073673 0.7795641  0.77603546\n",
      " 0.74941176 0.76116112 0.75568014 0.74745482 0.76037144 0.7591988\n",
      " 0.75137101 0.75450597 0.7556786  0.75841833 0.75567323 0.75646291\n",
      " 0.75998465 0.75959173 0.75802847 0.75841833 0.7580254  0.75880741\n",
      "        nan        nan        nan        nan        nan        nan\n",
      "        nan        nan        nan        nan        nan        nan\n",
      "        nan        nan        nan        nan        nan        nan\n",
      " 0.78347492 0.77133725 0.78229922 0.78621619 0.78739189 0.77917118\n",
      " 0.78426077 0.78464756 0.78152258 0.78660604 0.78700127 0.783082\n",
      " 0.78229999 0.78229999 0.78073366 0.78230229 0.78229769 0.78269138\n",
      " 0.75019915 0.75254442 0.76076436 0.76155021 0.75411074 0.75841986\n",
      " 0.76193853 0.75606922 0.76429147 0.75841909 0.76233299 0.75567937\n",
      " 0.75724416 0.76390238 0.76155405 0.76272514 0.76311653 0.76233452\n",
      "        nan        nan        nan        nan        nan        nan\n",
      "        nan        nan        nan        nan        nan        nan\n",
      "        nan        nan        nan        nan        nan        nan\n",
      " 0.79286981 0.78426231 0.78739035 0.78229999 0.7869982  0.78621695\n",
      " 0.79209163 0.7830843  0.7881693  0.78582633 0.7881739  0.78464909\n",
      " 0.79287211 0.78661141 0.78895514 0.78425694 0.79013085 0.78464679\n",
      " 0.75567553 0.76037758 0.76076973 0.76156019 0.75841295 0.76898814\n",
      " 0.76625225 0.76664441 0.76624535 0.76429147 0.76233222 0.76507578\n",
      " 0.76938337 0.76468363 0.76782011 0.76546564 0.76428994 0.76585933\n",
      "        nan        nan        nan        nan        nan        nan\n",
      "        nan        nan        nan        nan        nan        nan\n",
      "        nan        nan        nan        nan        nan        nan\n",
      " 0.7807375  0.78622386 0.78973562 0.78935191 0.78464833 0.78582173\n",
      " 0.78230152 0.79639845 0.79013161 0.7944392  0.79169487 0.790523\n",
      " 0.78778098 0.78621465 0.79091516 0.79365335 0.78504278 0.79169717\n",
      " 0.76899352 0.76429224 0.75998619 0.75841986 0.76390238 0.75646061\n",
      " 0.77329726 0.76781551 0.76547101 0.76820613 0.76507578 0.76311807\n",
      " 0.77094509 0.77016231 0.7631173  0.77055447 0.77133571 0.76585856\n",
      "        nan        nan        nan        nan        nan        nan\n",
      "        nan        nan        nan        nan        nan        nan\n",
      "        nan        nan        nan        nan        nan        nan\n",
      " 0.78386631 0.79130118 0.77721039 0.79248456 0.78856529 0.78699896\n",
      " 0.79130655 0.79052377 0.78699513 0.79326196 0.78973869 0.79013085\n",
      " 0.79247611 0.78817467 0.79169794 0.79013238 0.7893473  0.79365565\n",
      " 0.76468132 0.76781474 0.76702506 0.76350716 0.76781474 0.76429377\n",
      " 0.76664134 0.77447066 0.77094509 0.77055907 0.76899121 0.76859829\n",
      " 0.77133801 0.76977476 0.76859906 0.76899121 0.77251679 0.77094816\n",
      "        nan        nan        nan        nan        nan        nan\n",
      "        nan        nan        nan        nan        nan        nan\n",
      "        nan        nan        nan        nan        nan        nan\n",
      " 0.76468363 0.77642838 0.7732988  0.77251142 0.77094432 0.76898814\n",
      " 0.77016308 0.76977476 0.77133648 0.76663981 0.77133878 0.77094739\n",
      " 0.77055447 0.76820997 0.77251449 0.77447373 0.77016308 0.76781397\n",
      " 0.74275277 0.73688116 0.74040597 0.7505867  0.75097656 0.74745328\n",
      " 0.74784083 0.74353632 0.75098116 0.74784774 0.74627911 0.7482376\n",
      " 0.75450059 0.74940869 0.74784697 0.75293734 0.74745405 0.75176087\n",
      "        nan        nan        nan        nan        nan        nan\n",
      "        nan        nan        nan        nan        nan        nan\n",
      "        nan        nan        nan        nan        nan        nan\n",
      " 0.76976862 0.76976862 0.77956103 0.77603469 0.77760485 0.77525498\n",
      " 0.77877825 0.77760485 0.78308507 0.78034227 0.78112659 0.77955796\n",
      " 0.77994935 0.77799394 0.77838379 0.78112429 0.77681823 0.77838686\n",
      " 0.7470642  0.74588466 0.7482445  0.75606615 0.75920417 0.75176317\n",
      " 0.75371935 0.75019685 0.75371628 0.756852   0.7556763  0.75450213\n",
      " 0.75332719 0.75724262 0.75410844 0.75606922 0.75881125 0.75606845\n",
      "        nan        nan        nan        nan        nan        nan\n",
      "        nan        nan        nan        nan        nan        nan\n",
      "        nan        nan        nan        nan        nan        nan\n",
      " 0.78112429 0.78268754 0.78151414 0.78739266 0.77877672 0.78269061\n",
      " 0.78151644 0.78465446 0.78034381 0.78229922 0.78464986 0.78073443\n",
      " 0.78504278 0.78464986 0.78229922 0.78112812 0.78386785 0.78151567\n",
      " 0.75411381 0.75488968 0.76429377 0.75763555 0.75998312 0.74745175\n",
      " 0.76233145 0.76077434 0.75606922 0.76076666 0.75724569 0.7619393\n",
      " 0.76194313 0.76155098 0.76233222 0.76194313 0.76076743 0.76076743\n",
      "        nan        nan        nan        nan        nan        nan\n",
      "        nan        nan        nan        nan        nan        nan\n",
      "        nan        nan        nan        nan        nan        nan\n",
      " 0.78935267 0.78504432 0.78622002 0.78543801 0.78426154 0.78621465\n",
      " 0.78660757 0.78895591 0.77955566 0.79013161 0.79482982 0.78621695\n",
      " 0.78778328 0.78895821 0.78856682 0.79052377 0.79013315 0.79169794\n",
      " 0.76155558 0.76311884 0.76116189 0.76742949 0.76233145 0.77251295\n",
      " 0.75920111 0.76507348 0.76038218 0.76507809 0.763115   0.76546334\n",
      " 0.76468439 0.76625072 0.76703503 0.7646867  0.76742642 0.76507732\n",
      "        nan        nan        nan        nan        nan        nan\n",
      "        nan        nan        nan        nan        nan        nan\n",
      "        nan        nan        nan        nan        nan        nan\n",
      " 0.78308737 0.78347185 0.78661064 0.78896205 0.78621772 0.79012931\n",
      " 0.79013008 0.78660681 0.79012854 0.78974099 0.79091363 0.78895591\n",
      " 0.79443997 0.79326273 0.78739112 0.79287288 0.78973946 0.78777944\n",
      " 0.76663981 0.76781781 0.7670358  0.76820153 0.76390162 0.76546564\n",
      " 0.76507425 0.76625072 0.77134185 0.77173324 0.76664211 0.76899275\n",
      " 0.77212463 0.7682046  0.76507195 0.770556   0.76703503 0.76350562\n",
      "        nan        nan        nan        nan        nan        nan\n",
      "        nan        nan        nan        nan        nan        nan\n",
      "        nan        nan        nan        nan        nan        nan\n",
      " 0.79013161 0.78190937 0.78386938 0.78504432 0.78151184 0.78112812\n",
      " 0.7881739  0.79521814 0.78817543 0.79248149 0.78425617 0.78974099\n",
      " 0.79013315 0.79130578 0.79130655 0.78895438 0.78895591 0.79208933\n",
      " 0.76468746 0.76546487 0.76702889 0.76311346 0.76429531 0.76742642\n",
      " 0.76389931 0.77212463 0.77055831 0.77094893 0.76859599 0.7682092\n",
      " 0.77055447 0.77133801 0.7693803  0.77134108 0.76624765 0.76859982]\n",
      "  warnings.warn(\n"
     ]
    },
    {
     "data": {
      "text/plain": [
       "{'criterion': 'gini',\n",
       " 'max_depth': 14,\n",
       " 'max_features': 'sqrt',\n",
       " 'n_estimators': 200,\n",
       " 'n_jobs': 1}"
      ]
     },
     "execution_count": 257,
     "metadata": {},
     "output_type": "execute_result"
    }
   ],
   "source": [
    "#Fitting the trainingset to find parameters with best accuracy\n",
    "\n",
    "model_rfc_params = GridSearchCV(estimator=RandomForestClassifier(), param_grid=parameters, cv= 5)\n",
    "model_rfc_params.fit(X_train_tf, y_train)\n",
    "\n",
    "#Getting the optimal parameters to use in RandomForest\n",
    "\n",
    "model_rfc_params.best_params_"
   ]
  },
  {
   "cell_type": "code",
   "execution_count": 262,
   "id": "78a34423-4203-42f3-8df6-55bbd491614c",
   "metadata": {},
   "outputs": [
    {
     "data": {
      "text/html": [
       "<style>#sk-container-id-3 {color: black;}#sk-container-id-3 pre{padding: 0;}#sk-container-id-3 div.sk-toggleable {background-color: white;}#sk-container-id-3 label.sk-toggleable__label {cursor: pointer;display: block;width: 100%;margin-bottom: 0;padding: 0.3em;box-sizing: border-box;text-align: center;}#sk-container-id-3 label.sk-toggleable__label-arrow:before {content: \"▸\";float: left;margin-right: 0.25em;color: #696969;}#sk-container-id-3 label.sk-toggleable__label-arrow:hover:before {color: black;}#sk-container-id-3 div.sk-estimator:hover label.sk-toggleable__label-arrow:before {color: black;}#sk-container-id-3 div.sk-toggleable__content {max-height: 0;max-width: 0;overflow: hidden;text-align: left;background-color: #f0f8ff;}#sk-container-id-3 div.sk-toggleable__content pre {margin: 0.2em;color: black;border-radius: 0.25em;background-color: #f0f8ff;}#sk-container-id-3 input.sk-toggleable__control:checked~div.sk-toggleable__content {max-height: 200px;max-width: 100%;overflow: auto;}#sk-container-id-3 input.sk-toggleable__control:checked~label.sk-toggleable__label-arrow:before {content: \"▾\";}#sk-container-id-3 div.sk-estimator input.sk-toggleable__control:checked~label.sk-toggleable__label {background-color: #d4ebff;}#sk-container-id-3 div.sk-label input.sk-toggleable__control:checked~label.sk-toggleable__label {background-color: #d4ebff;}#sk-container-id-3 input.sk-hidden--visually {border: 0;clip: rect(1px 1px 1px 1px);clip: rect(1px, 1px, 1px, 1px);height: 1px;margin: -1px;overflow: hidden;padding: 0;position: absolute;width: 1px;}#sk-container-id-3 div.sk-estimator {font-family: monospace;background-color: #f0f8ff;border: 1px dotted black;border-radius: 0.25em;box-sizing: border-box;margin-bottom: 0.5em;}#sk-container-id-3 div.sk-estimator:hover {background-color: #d4ebff;}#sk-container-id-3 div.sk-parallel-item::after {content: \"\";width: 100%;border-bottom: 1px solid gray;flex-grow: 1;}#sk-container-id-3 div.sk-label:hover label.sk-toggleable__label {background-color: #d4ebff;}#sk-container-id-3 div.sk-serial::before {content: \"\";position: absolute;border-left: 1px solid gray;box-sizing: border-box;top: 0;bottom: 0;left: 50%;z-index: 0;}#sk-container-id-3 div.sk-serial {display: flex;flex-direction: column;align-items: center;background-color: white;padding-right: 0.2em;padding-left: 0.2em;position: relative;}#sk-container-id-3 div.sk-item {position: relative;z-index: 1;}#sk-container-id-3 div.sk-parallel {display: flex;align-items: stretch;justify-content: center;background-color: white;position: relative;}#sk-container-id-3 div.sk-item::before, #sk-container-id-3 div.sk-parallel-item::before {content: \"\";position: absolute;border-left: 1px solid gray;box-sizing: border-box;top: 0;bottom: 0;left: 50%;z-index: -1;}#sk-container-id-3 div.sk-parallel-item {display: flex;flex-direction: column;z-index: 1;position: relative;background-color: white;}#sk-container-id-3 div.sk-parallel-item:first-child::after {align-self: flex-end;width: 50%;}#sk-container-id-3 div.sk-parallel-item:last-child::after {align-self: flex-start;width: 50%;}#sk-container-id-3 div.sk-parallel-item:only-child::after {width: 0;}#sk-container-id-3 div.sk-dashed-wrapped {border: 1px dashed gray;margin: 0 0.4em 0.5em 0.4em;box-sizing: border-box;padding-bottom: 0.4em;background-color: white;}#sk-container-id-3 div.sk-label label {font-family: monospace;font-weight: bold;display: inline-block;line-height: 1.2em;}#sk-container-id-3 div.sk-label-container {text-align: center;}#sk-container-id-3 div.sk-container {/* jupyter's `normalize.less` sets `[hidden] { display: none; }` but bootstrap.min.css set `[hidden] { display: none !important; }` so we also need the `!important` here to be able to override the default hidden behavior on the sphinx rendered scikit-learn.org. See: https://github.com/scikit-learn/scikit-learn/issues/21755 */display: inline-block !important;position: relative;}#sk-container-id-3 div.sk-text-repr-fallback {display: none;}</style><div id=\"sk-container-id-3\" class=\"sk-top-container\"><div class=\"sk-text-repr-fallback\"><pre>RandomForestClassifier(max_depth=14, n_estimators=200, n_jobs=1)</pre><b>In a Jupyter environment, please rerun this cell to show the HTML representation or trust the notebook. <br />On GitHub, the HTML representation is unable to render, please try loading this page with nbviewer.org.</b></div><div class=\"sk-container\" hidden><div class=\"sk-item\"><div class=\"sk-estimator sk-toggleable\"><input class=\"sk-toggleable__control sk-hidden--visually\" id=\"sk-estimator-id-3\" type=\"checkbox\" checked><label for=\"sk-estimator-id-3\" class=\"sk-toggleable__label sk-toggleable__label-arrow\">RandomForestClassifier</label><div class=\"sk-toggleable__content\"><pre>RandomForestClassifier(max_depth=14, n_estimators=200, n_jobs=1)</pre></div></div></div></div></div>"
      ],
      "text/plain": [
       "RandomForestClassifier(max_depth=14, n_estimators=200, n_jobs=1)"
      ]
     },
     "execution_count": 262,
     "metadata": {},
     "output_type": "execute_result"
    }
   ],
   "source": [
    "# Ramdom Forest Classifier\n",
    "from sklearn.ensemble import RandomForestClassifier\n",
    "model=RandomForestClassifier(**model_rfc_params.best_params_)\n",
    "model.fit(X_train_tf, y_train)"
   ]
  },
  {
   "cell_type": "code",
   "execution_count": 263,
   "id": "7a018beb-3024-4546-9a25-519e922ffd9e",
   "metadata": {},
   "outputs": [
    {
     "name": "stdout",
     "output_type": "stream",
     "text": [
      "RandomForest: 0.790509 \n"
     ]
    }
   ],
   "source": [
    "cv_score = cross_val_score(model, X_train_tf,y_train, cv=10 )\n",
    "print(\"%s: %f \" % (pipe_dict[2], cv_score.mean()))"
   ]
  },
  {
   "cell_type": "code",
   "execution_count": 264,
   "id": "6af5899a-c89e-477e-b242-635f0fd4a4b4",
   "metadata": {},
   "outputs": [],
   "source": [
    "y_train_preds = model.predict_proba(X_train_tf)[:,1]\n",
    "y_valid_preds = model.predict_proba(X_valid_tf)[:,1]\n",
    "\n",
    "# y_train_preds = model.predict(X_train_tf)\n",
    "# y_valid_preds = model.predict(X_valid_tf)"
   ]
  },
  {
   "cell_type": "code",
   "execution_count": 282,
   "id": "62d65469-9fec-41d7-ba69-b8094274d0aa",
   "metadata": {},
   "outputs": [
    {
     "name": "stdout",
     "output_type": "stream",
     "text": [
      "Train AUC:0.999\n",
      "Train  AUC:0.861\n",
      "Train accuracy:0.963\n",
      "Train  accuracy:0.826\n",
      "Train recall:0.926\n",
      "Train  recall:0.730\n",
      "Train precision:1.000\n",
      "Train  precision:0.211\n",
      "Train specificity:1.000\n",
      "Train  specificity:0.832\n",
      "Train prevalence:0.500\n",
      "Train  prevalence:0.058\n"
     ]
    },
    {
     "data": {
      "image/png": "[encoded data removed]",
      "text/plain": [
       "<Figure size 640x480 with 1 Axes>"
      ]
     },
     "metadata": {},
     "output_type": "display_data"
    }
   ],
   "source": [
    "print_metrics(y_train, y_train_preds, y_valid, y_valid_preds, 0.5, 'Train')"
   ]
  },
  {
   "cell_type": "code",
   "execution_count": 268,
   "id": "458870f1-d437-4c88-a1d5-8c3d87dbc76e",
   "metadata": {},
   "outputs": [],
   "source": [
    "X_test_tf = vectorizer.transform(df_test.TEXT.values)\n",
    "y_test_preds = model.predict_proba(X_test_tf)[:,1]"
   ]
  },
  {
   "cell_type": "code",
   "execution_count": 269,
   "id": "f430f11f-58c5-423f-9113-609b56b6e139",
   "metadata": {},
   "outputs": [],
   "source": [
    "y_test = df_test.OUTPUT_LABEL"
   ]
  },
  {
   "cell_type": "code",
   "execution_count": 281,
   "id": "4d8dd386-5432-498f-bb5a-c496b3ec9ec5",
   "metadata": {},
   "outputs": [
    {
     "name": "stdout",
     "output_type": "stream",
     "text": [
      "Train AUC:0.999\n",
      "Test  AUC:0.873\n",
      "Train accuracy:0.963\n",
      "Test  accuracy:0.829\n",
      "Train recall:0.926\n",
      "Test  recall:0.742\n",
      "Train precision:1.000\n",
      "Test  precision:0.202\n",
      "Train specificity:1.000\n",
      "Test  specificity:0.834\n",
      "Train prevalence:0.500\n",
      "Test  prevalence:0.054\n"
     ]
    },
    {
     "data": {
      "image/png": "[encoded data removed]",
      "text/plain": [
       "<Figure size 640x480 with 1 Axes>"
      ]
     },
     "metadata": {},
     "output_type": "display_data"
    }
   ],
   "source": [
    "print_metrics(y_train, y_train_preds, y_test, y_test_preds, 0.5, 'Test')"
   ]
  }
 ],
 "metadata": {
  "kernelspec": {
   "display_name": "Python 3 (ipykernel)",
   "language": "python",
   "name": "python3"
  },
  "language_info": {
   "codemirror_mode": {
    "name": "ipython",
    "version": 3
   },
   "file_extension": ".py",
   "mimetype": "text/x-python",
   "name": "python",
   "nbconvert_exporter": "python",
   "pygments_lexer": "ipython3",
   "version": "3.10.12"
  }
 },
 "nbformat": 4,
 "nbformat_minor": 5
}
